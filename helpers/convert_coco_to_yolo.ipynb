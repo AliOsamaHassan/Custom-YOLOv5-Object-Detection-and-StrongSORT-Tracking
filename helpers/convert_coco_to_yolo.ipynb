{
 "cells": [
  {
   "cell_type": "code",
   "execution_count": null,
   "id": "e9e41126-1d5e-49c0-b709-9b76cf055a3d",
   "metadata": {
    "id": "e9e41126-1d5e-49c0-b709-9b76cf055a3d"
   },
   "outputs": [],
   "source": [
    "# from google.colab import drive\n",
    "\n",
    "# drive.mount(\"/content/drive\")"
   ]
  },
  {
   "cell_type": "code",
   "execution_count": null,
   "id": "4VLgqShPjFrN",
   "metadata": {
    "id": "4VLgqShPjFrN"
   },
   "outputs": [],
   "source": [
    "# %cd /content/drive/MyDrive/Storma/machine-learning-challenge"
   ]
  },
  {
   "cell_type": "markdown",
   "id": "2409361f-6cdc-4a32-ae68-0ff8f0421e21",
   "metadata": {
    "id": "2409361f-6cdc-4a32-ae68-0ff8f0421e21"
   },
   "source": [
    "### Install Packages"
   ]
  },
  {
   "cell_type": "code",
   "execution_count": null,
   "id": "3e71ebca-331d-4ce0-87f6-e835cabfe7c2",
   "metadata": {
    "id": "3e71ebca-331d-4ce0-87f6-e835cabfe7c2"
   },
   "outputs": [],
   "source": [
    "!pip3 install pycocotools\n",
    "\n",
    "# !pip3 install nb_black\n",
    "# %load_ext lab_black\n",
    "\n",
    "# !pip3 install black[jupyter]\n",
    "# !black \"/content/drive/MyDrive/Storma/machine-learning-challenge/coco2yolo.ipynb\""
   ]
  },
  {
   "cell_type": "markdown",
   "id": "37dad6e3-b345-4364-b83c-d40cede154a1",
   "metadata": {
    "id": "37dad6e3-b345-4364-b83c-d40cede154a1"
   },
   "source": [
    "### Import Packages"
   ]
  },
  {
   "cell_type": "code",
   "execution_count": null,
   "id": "58a444f5-6c46-4689-b259-dff99b08f14f",
   "metadata": {
    "id": "58a444f5-6c46-4689-b259-dff99b08f14f"
   },
   "outputs": [],
   "source": [
    "import numpy as np\n",
    "import matplotlib.pyplot as plt\n",
    "from PIL import Image\n",
    "import requests\n",
    "from pycocotools.coco import COCO\n",
    "from IPython.display import display  # to display images\n",
    "import random\n",
    "import skimage.io as io\n",
    "import torch\n",
    "\n",
    "torch.version.cuda\n",
    "import pylab\n",
    "\n",
    "pylab.rcParams[\"figure.figsize\"] = (12, 14)  # Import Libraries\n",
    "\n",
    "%matplotlib inline"
   ]
  },
  {
   "cell_type": "markdown",
   "id": "5616dba6-be2a-45a6-a764-c8cbe48b67da",
   "metadata": {
    "id": "5616dba6-be2a-45a6-a764-c8cbe48b67da"
   },
   "source": [
    "**Coco**:\n",
    "- Format `[x_min, y_min, width, height]`\n",
    "\n",
    "The coordinates (x_min, y_min) are the top-left corner along with the width and height of the bounding box.\n",
    "\n",
    "**Pascal_VOC** :\n",
    "- Format: `[x_min, y_min, x_max, y_max]`\n",
    "\n",
    "x_min and y_min are coordinates of the top-left corner and x_max and y_max are coordinates of bottom-right corner of the bounding box.\n",
    "\n",
    "**Yolo**:\n",
    "- Format: `[x_center, y_center, width, height]`\n",
    "\n",
    "**x_center and y_center are the normalized coordinates of the centre of the bounding box. The width and height are the normalized length. To convert YOLO in Coco or Pascal or vice versa it is important to have the size of the image to calculate the normalization.**"
   ]
  },
  {
   "cell_type": "markdown",
   "id": "cc807d19-896d-497d-81ae-b895a6e25fe3",
   "metadata": {
    "id": "cc807d19-896d-497d-81ae-b895a6e25fe3"
   },
   "source": [
    "### Load and Explore COCO annotations"
   ]
  },
  {
   "cell_type": "code",
   "execution_count": null,
   "id": "61cf3b11-e9ac-4c2a-9de6-3fb8a22a7caa",
   "metadata": {
    "id": "61cf3b11-e9ac-4c2a-9de6-3fb8a22a7caa"
   },
   "outputs": [],
   "source": [
    "import json\n",
    "import os\n",
    "import glob\n",
    "import shutil\n",
    "\n",
    "data_folder = \"../data\"  #os.path.join(os.getcwd(), \"data\")\n",
    "coco_images_folder = os.path.join(\n",
    "    data_folder,\n",
    "    \"coco/images/test/frames\",\n",
    ")\n",
    "coco_json_file = os.path.join(\n",
    "    data_folder,\n",
    "    \"coco/annotations/instances_test.json\",\n",
    ")\n",
    "\n",
    "\n",
    "coco_images_folder,coco_json_file"
   ]
  },
  {
   "cell_type": "code",
   "execution_count": null,
   "id": "8e44a0af-1cda-4c55-bd69-885dcf13d2df",
   "metadata": {
    "id": "8e44a0af-1cda-4c55-bd69-885dcf13d2df"
   },
   "outputs": [],
   "source": [
    "# Load COCO annotations\n",
    "coco_annotation = COCO(annotation_file=coco_json_file)\n",
    "\n",
    "# Get Category IDs.\n",
    "cat_ids = coco_annotation.getCatIds()\n",
    "print(f\"Number of Unique Categories: {len(cat_ids)}\")\n",
    "print(\"Category IDs:\", cat_ids)  # The IDs are not necessarily consecutive."
   ]
  },
  {
   "cell_type": "code",
   "execution_count": null,
   "id": "c2bad7c1-6765-494d-954e-068bc253afb7",
   "metadata": {
    "id": "c2bad7c1-6765-494d-954e-068bc253afb7"
   },
   "outputs": [],
   "source": [
    "# Get all categories.\n",
    "cats = coco_annotation.loadCats(cat_ids)\n",
    "cat_names = [cat[\"name\"] for cat in cats]\n",
    "print(\"Categories Names:\", cat_names)\n",
    "\n",
    "# Category ID -> Category Name.\n",
    "query_id = cat_ids[0]\n",
    "query_annotation = coco_annotation.loadCats([query_id])[0]\n",
    "query_name = query_annotation[\"name\"]\n",
    "query_supercategory = query_annotation[\"supercategory\"]\n",
    "print(\n",
    "    f\"Category ID: {query_id}, Category Name: {query_name}, Supercategory: {query_supercategory}\"\n",
    ")\n",
    "\n",
    "# Category Name -> Category ID.\n",
    "query_name = cat_names[0]\n",
    "query_id = coco_annotation.getCatIds(catNms=[query_name])[0]\n",
    "print(f\"Category Name: {query_name}, Category ID: {query_id}\")\n",
    "\n",
    "# Get the ID of all the images containing the object of the category.\n",
    "img_ids = coco_annotation.getImgIds(catIds=[query_id])\n",
    "print(f\"Number of Images Containing {query_name}: {len(img_ids)}\")"
   ]
  },
  {
   "cell_type": "code",
   "execution_count": null,
   "id": "cc0af7c4-36fb-4890-8290-7b438600d241",
   "metadata": {
    "id": "cc0af7c4-36fb-4890-8290-7b438600d241"
   },
   "outputs": [],
   "source": [
    "# Pick a random image id\n",
    "img_id = random.choice(img_ids)\n",
    "\n",
    "# Load the image\n",
    "img_info = coco_annotation.loadImgs([img_id])[0]\n",
    "print(\"Image Details:\", img_info)\n",
    "\n",
    "# Load image.\n",
    "img = io.imread(os.path.join(coco_images_folder, img_info[\"file_name\"]))\n",
    "\n",
    "# Get all the annotations for specific image.\n",
    "ann_ids = coco_annotation.getAnnIds(imgIds=img_id, iscrowd=None)\n",
    "anns = coco_annotation.loadAnns(ann_ids)\n",
    "print(f\"Annotation for Image ID {img_id}:\", anns)\n",
    "\n",
    "# Display Image\n",
    "plt.imshow(img)\n",
    "plt.axis(\"off\")\n",
    "coco_annotation.showAnns(anns, draw_bbox=True)"
   ]
  },
  {
   "cell_type": "markdown",
   "id": "kEUDLy4ulScA",
   "metadata": {
    "id": "kEUDLy4ulScA"
   },
   "source": [
    "### Convert COCO to YOLO data format"
   ]
  },
  {
   "cell_type": "code",
   "execution_count": null,
   "id": "da3e150d-0d17-48c3-b2f8-b4847206f225",
   "metadata": {
    "id": "da3e150d-0d17-48c3-b2f8-b4847206f225",
    "scrolled": true,
    "tags": []
   },
   "outputs": [],
   "source": [
    "class COCO_PARSER:\n",
    "    def __init__(self, json_file, output_dir, classes_file):\n",
    "        self.json_file, self.output_dir, self.classes_file = self._check_file_and_dir(\n",
    "            json_file, output_dir, classes_file\n",
    "        )\n",
    "        self.labels = json.load(open(self.json_file, \"r\", encoding=\"utf-8\"))\n",
    "        self.coco_id_name_map = self._categories()\n",
    "        self.coco_name_list = list(self.coco_id_name_map.values())\n",
    "        print(\"total images\", len(self.labels[\"images\"]))\n",
    "        print(\"total categories\", len(self.labels[\"categories\"]))\n",
    "        print(\"total labels\", len(self.labels[\"annotations\"]))\n",
    "\n",
    "    def _check_file_and_dir(self, json_file, output_dir, classes_file):\n",
    "        if not os.path.exists(json_file):\n",
    "            raise ValueError(\"file not found\")\n",
    "        if not os.path.exists(output_dir):\n",
    "            os.makedirs(output_dir)\n",
    "        return json_file, output_dir, classes_file\n",
    "\n",
    "    def _categories(self):\n",
    "        categories = {}\n",
    "        for cls in self.labels[\"categories\"]:\n",
    "            categories[cls[\"id\"]] = cls[\"name\"]\n",
    "        return categories\n",
    "\n",
    "    def _load_images_info(self):\n",
    "        images_info = {}\n",
    "        for image in self.labels[\"images\"]:\n",
    "            id = image[\"id\"]\n",
    "            file_name = image[\"file_name\"]\n",
    "            if file_name.find(\"\\\\\") > -1:\n",
    "                file_name = file_name[file_name.index(\"\\\\\") + 1 :]\n",
    "            w = image[\"width\"]\n",
    "            h = image[\"height\"]\n",
    "            images_info[id] = (file_name, w, h)\n",
    "\n",
    "        return images_info\n",
    "\n",
    "    def _bbox_2_yolo(self, bbox, img_width, img_height):\n",
    "        ann_bbox_xmin, ann_bbox_ymin, ann_bbox_width, ann_bbox_height = (\n",
    "            bbox[0],\n",
    "            bbox[1],\n",
    "            bbox[2],\n",
    "            bbox[3],\n",
    "        )\n",
    "        center_x_scaled = (ann_bbox_xmin + (ann_bbox_width * 0.5)) / img_width\n",
    "        center_y_scaled = (ann_bbox_ymin + (ann_bbox_height * 0.5)) / img_height\n",
    "        width_scaled = ann_bbox_width / img_width\n",
    "        height_scaled = ann_bbox_height / img_height\n",
    "\n",
    "        return center_x_scaled, center_y_scaled, width_scaled, height_scaled\n",
    "\n",
    "    def _convert_anno(self, images_info):\n",
    "        anno_dict = dict()\n",
    "        for anno in self.labels[\"annotations\"]:\n",
    "            image_id = anno[\"image_id\"]\n",
    "            category_id = anno[\"category_id\"]\n",
    "            bbox = anno[\"bbox\"]\n",
    "            segmentation = anno[\"segmentation\"]\n",
    "\n",
    "            image_info = images_info.get(image_id)\n",
    "            image_name = image_info[0]\n",
    "            img_w = image_info[1]\n",
    "            img_h = image_info[2]\n",
    "\n",
    "            new_anno = self._bbox_2_yolo(bbox, img_w, img_h)\n",
    "\n",
    "            anno_info = (image_name, category_id, new_anno)\n",
    "            anno_infos = anno_dict.get(image_id)\n",
    "\n",
    "            if not anno_infos:\n",
    "                anno_dict[image_id] = [anno_info]\n",
    "            else:\n",
    "                anno_infos.append(anno_info)\n",
    "                anno_dict[image_id] = anno_infos\n",
    "        return anno_dict\n",
    "\n",
    "    def _save_classes(self, classes_file):\n",
    "        sorted_classes = list(\n",
    "            map(\n",
    "                lambda x: x[\"name\"],\n",
    "                sorted(self.labels[\"categories\"], key=lambda x: x[\"id\"]),\n",
    "            )\n",
    "        )\n",
    "        print(\"coco names\", sorted_classes)\n",
    "        with open(classes_file, \"w\", encoding=\"utf-8\") as f:\n",
    "            for cls in sorted_classes:\n",
    "                f.write(cls + \"\\n\")\n",
    "        f.close()\n",
    "\n",
    "    def _save_txt(self, anno_dict):\n",
    "        for k, v in anno_dict.items():\n",
    "            file_name = v[0][0].split(\".\")[0] + \".txt\"\n",
    "            with open(\n",
    "                os.path.join(self.output_dir, file_name), \"w\", encoding=\"utf-8\"\n",
    "            ) as f:\n",
    "                print(k, v)\n",
    "                for obj in v:\n",
    "                    cat_name = self.coco_id_name_map.get(obj[1])\n",
    "                    category_id = self.coco_name_list.index(cat_name)\n",
    "                    line = \"\"\n",
    "                    box = [\"{:.4f}\".format(x) for x in obj[2]]\n",
    "                    box = \" \".join(box)\n",
    "                    line = str(category_id) + \" \" + box\n",
    "                    f.write(line + \"\\n\")\n",
    "\n",
    "    def convert_coco(self):\n",
    "        print(\"[INFO] Loading image info...\")\n",
    "        images_info = self._load_images_info()\n",
    "        print(f\"[INFO] Loading done, total images {len(images_info)}\")\n",
    "\n",
    "        print(\"[INFO] Start converting...\")\n",
    "        anno_dict = self._convert_anno(images_info)\n",
    "        print(f\"[INFO] Converting done, total labels { len(anno_dict)}\")\n",
    "\n",
    "        print(\"[INFO] Saving txt file...\")\n",
    "        self._save_txt(anno_dict)\n",
    "        print(f\"[INFO] Saving done\")\n",
    "\n",
    "        print(\"[INFO] Saving classes file...\")\n",
    "        self._save_classes(self.classes_file)\n",
    "        print(\"[INFO] Saving done!\")\n",
    "\n",
    "\n",
    "def create_dir(dir):\n",
    "    if not os.path.exists(dir):\n",
    "        os.makedirs(dir)\n",
    "        print(f\"Directory {dir} created successfully!\\n\")\n",
    "    else:\n",
    "        print(f\"Directory {dir} already exists!\\n\")"
   ]
  },
  {
   "cell_type": "markdown",
   "id": "49fe6096-ac5f-484c-abcb-e19e2556d084",
   "metadata": {
    "id": "49fe6096-ac5f-484c-abcb-e19e2556d084"
   },
   "source": [
    "Convert to YOLO format"
   ]
  },
  {
   "cell_type": "code",
   "execution_count": null,
   "id": "GSXy0qsUoP1U",
   "metadata": {
    "id": "GSXy0qsUoP1U",
    "scrolled": true,
    "tags": []
   },
   "outputs": [],
   "source": [
    "yolo_data_folder = os.path.join(data_folder, \"yolo\")\n",
    "create_dir(yolo_data_folder)\n",
    "\n",
    "for folder_name in os.listdir(os.path.join(data_folder, \"coco/images\")):\n",
    "\n",
    "    if folder_name in [\"test\"] : continue\n",
    "\n",
    "    # create folder for train/val/test\n",
    "    yolo_output_dir = os.path.join(yolo_data_folder, folder_name)\n",
    "    create_dir(yolo_output_dir)\n",
    "\n",
    "    # create images folder\n",
    "    coco_images_folder = os.path.join(\n",
    "        data_folder, f\"coco/images/{folder_name}\", \"frames\"\n",
    "    )\n",
    "    yolo_images_output_dir = os.path.join(yolo_output_dir, \"images\")\n",
    "    create_dir(yolo_images_output_dir)\n",
    "\n",
    "    # # copy images from coco to yolo\n",
    "    # !cp -r {coco_images_folder}/*.jpg {yolo_images_output_dir}\n",
    "\n",
    "    # create labels folder\n",
    "    yolo_labels_output_dir = os.path.join(yolo_output_dir, \"labels\")\n",
    "    create_dir(yolo_labels_output_dir)\n",
    "\n",
    "    # convert annotations\n",
    "    classes_file = os.path.join(yolo_data_folder, \"class.names\")\n",
    "    coco_json_file = os.path.join(\n",
    "        data_folder,\n",
    "        f\"coco/annotations/instances_{folder_name}.json\",\n",
    "        )\n",
    "    coco_parser = COCO_PARSER(coco_json_file, yolo_labels_output_dir, classes_file)\n",
    "    coco_parser.convert_coco()\n",
    "\n",
    "    print(\"\\n\")\n",
    "\n",
    "print(\"Done!\")"
   ]
  },
  {
   "cell_type": "markdown",
   "id": "89993196",
   "metadata": {},
   "source": [
    "## Draw bounding boxes of YOLO"
   ]
  },
  {
   "cell_type": "code",
   "execution_count": null,
   "id": "b461dacb",
   "metadata": {},
   "outputs": [],
   "source": [
    "from PIL import Image, ImageDraw\n",
    "import numpy as np\n",
    "import matplotlib.pyplot as plt\n",
    "import os\n",
    "\n",
    "\n",
    "def plot_bounding_box(image, annotation_list):\n",
    "    annotations = np.array(annotation_list)\n",
    "    w, h = image.size\n",
    "    \n",
    "    plotted_image = ImageDraw.Draw(image)\n",
    "\n",
    "    transformed_annotations = np.copy(annotations)\n",
    "    \n",
    "    try: \n",
    "        transformed_annotations[:,[1,3]] = annotations[:,[1,3]] * w\n",
    "        transformed_annotations[:,[2,4]] = annotations[:,[2,4]] * h \n",
    "    \n",
    "        transformed_annotations[:,1] = transformed_annotations[:,1] - (transformed_annotations[:,3] / 2)\n",
    "        transformed_annotations[:,2] = transformed_annotations[:,2] - (transformed_annotations[:,4] / 2)\n",
    "        transformed_annotations[:,3] = transformed_annotations[:,1] + transformed_annotations[:,3]\n",
    "        transformed_annotations[:,4] = transformed_annotations[:,2] + transformed_annotations[:,4]\n",
    "    except:\n",
    "        transformed_annotations[[1,3]] = annotations[[1,3]] * w\n",
    "        transformed_annotations[[2,4]] = annotations[[2,4]] * h \n",
    "    \n",
    "        transformed_annotations[1] = transformed_annotations[1] - (transformed_annotations[3] / 2)\n",
    "        transformed_annotations[2] = transformed_annotations[2] - (transformed_annotations[4] / 2)\n",
    "        transformed_annotations[3] = transformed_annotations[1] + transformed_annotations[3]\n",
    "        transformed_annotations[4] = transformed_annotations[2] + transformed_annotations[4]  \n",
    "        \n",
    "        print(transformed_annotations)\n",
    "        \n",
    "        \n",
    "    for ann in transformed_annotations:\n",
    "        try:\n",
    "            obj_cls, x0, y0, x1, y1 = ann\n",
    "            plotted_image.rectangle(((x0,y0), (x1,y1)), width = 10, outline=\"#0000ff\")\n",
    "        \n",
    "        except: \n",
    "            obj_cls= transformed_annotations[0]\n",
    "            x0=transformed_annotations[1]\n",
    "            y0=transformed_annotations[2]\n",
    "            x1=transformed_annotations[3]\n",
    "            y1=transformed_annotations[4]\n",
    "            plotted_image.rectangle(((x0,y0), (x1,y1)), width = 10, outline=\"#0000ff\")\n",
    "        \n",
    "    \n",
    "    plt.imshow(np.array(image))\n",
    "    plt.show()"
   ]
  },
  {
   "cell_type": "code",
   "execution_count": null,
   "id": "a1abb96e",
   "metadata": {},
   "outputs": [],
   "source": [
    "frame_number = \"0112\"\n",
    "#get an annotation file\n",
    "annotation_file = os.path.join(yolo_data_folder, \"test/labels/{}.txt\".format(frame_number))\n",
    "\n",
    "#Get the corresponding image file\n",
    "image_file = os.path.join(yolo_data_folder, \"test/images/{}.jpg\".format(frame_number))\n",
    "assert os.path.exists(image_file)\n",
    "\n",
    "#Load the image\n",
    "image = Image.open(image_file)\n",
    "\n",
    "#Plot the Bounding Box\n",
    "plot_bounding_box(image, np.loadtxt(annotation_file))"
   ]
  },
  {
   "cell_type": "markdown",
   "id": "5c7c3b5f-10e2-4114-999d-81bc755382cf",
   "metadata": {
    "id": "5c7c3b5f-10e2-4114-999d-81bc755382cf"
   },
   "source": [
    "### Create new YAML file"
   ]
  },
  {
   "cell_type": "code",
   "execution_count": null,
   "id": "f649a9f2-6c75-45fc-b0db-1603a3083f0b",
   "metadata": {
    "id": "f649a9f2-6c75-45fc-b0db-1603a3083f0b"
   },
   "outputs": [],
   "source": [
    "# customize iPython writefile so we can write variables\n",
    "from IPython.core.magic import register_line_cell_magic\n",
    "\n",
    "\n",
    "@register_line_cell_magic\n",
    "def writetemplate(line, cell):\n",
    "    with open(line, \"w\") as f:\n",
    "        f.write(cell.format(**globals()))"
   ]
  },
  {
   "cell_type": "code",
   "execution_count": null,
   "id": "6b251ca5-393f-4839-aca4-c8055545dfe7",
   "metadata": {
    "id": "6b251ca5-393f-4839-aca4-c8055545dfe7"
   },
   "outputs": [],
   "source": [
    "yaml_file = os.path.join(yolo_data_folder, \"custom.yaml\")"
   ]
  },
  {
   "cell_type": "code",
   "execution_count": null,
   "id": "c4f4c83c-4c88-4808-afcf-eee0b9408fe5",
   "metadata": {
    "id": "c4f4c83c-4c88-4808-afcf-eee0b9408fe5"
   },
   "outputs": [],
   "source": [
    "yolo_data_folder"
   ]
  },
  {
   "cell_type": "code",
   "execution_count": null,
   "id": "02febf6b-3628-4dcb-9176-941b83f09479",
   "metadata": {
    "id": "02febf6b-3628-4dcb-9176-941b83f09479"
   },
   "outputs": [],
   "source": [
    "len(cat_names)"
   ]
  },
  {
   "cell_type": "code",
   "execution_count": null,
   "id": "738e96f6-7a19-460e-b2ff-39d54b4fee91",
   "metadata": {
    "id": "738e96f6-7a19-460e-b2ff-39d54b4fee91"
   },
   "outputs": [],
   "source": [
    "cat_names"
   ]
  },
  {
   "cell_type": "code",
   "execution_count": null,
   "id": "b378afef-8e9e-4c46-8869-34877cde3be1",
   "metadata": {
    "id": "b378afef-8e9e-4c46-8869-34877cde3be1"
   },
   "outputs": [],
   "source": [
    "%%writetemplate {yaml_file}\n",
    "train: {yolo_data_folder}/train/images\n",
    "val: {yolo_data_folder}/val/images\n",
    "\n",
    "nc: 2\n",
    "names: ['bolt', 'nut']"
   ]
  },
  {
   "cell_type": "code",
   "execution_count": null,
   "id": "9eeffde2-59d8-4e2d-8f39-23e76f85e3f0",
   "metadata": {
    "id": "9eeffde2-59d8-4e2d-8f39-23e76f85e3f0"
   },
   "outputs": [],
   "source": []
  }
 ],
 "metadata": {
  "colab": {
   "machine_shape": "hm",
   "provenance": []
  },
  "gpuClass": "premium",
  "kernelspec": {
   "display_name": "Python 3 (ipykernel)",
   "language": "python",
   "name": "python3"
  },
  "language_info": {
   "codemirror_mode": {
    "name": "ipython",
    "version": 3
   },
   "file_extension": ".py",
   "mimetype": "text/x-python",
   "name": "python",
   "nbconvert_exporter": "python",
   "pygments_lexer": "ipython3",
   "version": "3.9.12"
  },
  "vscode": {
   "interpreter": {
    "hash": "3302f45d2aa19526f06f39d8f296fc0434d63a22902ee77b2eb24e9a089d4b2b"
   }
  }
 },
 "nbformat": 4,
 "nbformat_minor": 5
}
