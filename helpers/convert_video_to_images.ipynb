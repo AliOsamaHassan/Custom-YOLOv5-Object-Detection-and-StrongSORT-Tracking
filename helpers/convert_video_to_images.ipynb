{
 "cells": [
  {
   "cell_type": "code",
   "execution_count": null,
   "id": "808fd5c1-bf78-4509-9a7c-e6857ffe2f9e",
   "metadata": {
    "id": "808fd5c1-bf78-4509-9a7c-e6857ffe2f9e"
   },
   "outputs": [],
   "source": [
    "!pip3 install imageio_ffmpeg"
   ]
  },
  {
   "cell_type": "code",
   "execution_count": null,
   "id": "G8Qc-Y0D8ibf",
   "metadata": {
    "id": "G8Qc-Y0D8ibf"
   },
   "outputs": [],
   "source": [
    "# from google.colab import drive\n",
    "# drive.mount('/content/drive')"
   ]
  },
  {
   "cell_type": "code",
   "execution_count": null,
   "id": "a5nzl_iN8zlH",
   "metadata": {
    "id": "a5nzl_iN8zlH"
   },
   "outputs": [],
   "source": [
    "# %cd /content/drive/MyDrive/Storma/machine-learning-challenge"
   ]
  },
  {
   "cell_type": "code",
   "execution_count": null,
   "id": "235519b6-1ecd-43b2-b0aa-819bbef54230",
   "metadata": {
    "id": "235519b6-1ecd-43b2-b0aa-819bbef54230"
   },
   "outputs": [],
   "source": [
    "import os\n",
    "import cv2\n",
    "import tqdm\n",
    "import imageio\n",
    "import shutil\n",
    "import glob"
   ]
  },
  {
   "cell_type": "markdown",
   "id": "tJwEohxO8nis",
   "metadata": {
    "id": "tJwEohxO8nis"
   },
   "source": [
    "### Download dataset"
   ]
  },
  {
   "cell_type": "code",
   "execution_count": null,
   "id": "rZNGO7g58qb9",
   "metadata": {
    "id": "rZNGO7g58qb9"
   },
   "outputs": [],
   "source": [
    "dataset_url = \"https://github.com/Stroma-Vision/machine-learning-challenge/releases/download/v0.1/challenge.zip\"\n",
    "\n",
    "!axel -n 50 {dataset_url}\n",
    "# !wget "
   ]
  },
  {
   "cell_type": "markdown",
   "id": "t6WsxLFF-IvF",
   "metadata": {
    "id": "t6WsxLFF-IvF"
   },
   "source": [
    "Decompress zipped file"
   ]
  },
  {
   "cell_type": "code",
   "execution_count": null,
   "id": "3s0J8ABh9H2g",
   "metadata": {
    "id": "3s0J8ABh9H2g"
   },
   "outputs": [],
   "source": [
    "!unzip \"challenge.zip\""
   ]
  },
  {
   "cell_type": "code",
   "execution_count": null,
   "id": "6647cd0c",
   "metadata": {},
   "outputs": [],
   "source": [
    "!rm \"challenge.zip\""
   ]
  },
  {
   "cell_type": "markdown",
   "id": "VhUY0U4a-BCZ",
   "metadata": {
    "id": "VhUY0U4a-BCZ"
   },
   "source": [
    "Rename `challenge` folder to `coco`"
   ]
  },
  {
   "cell_type": "code",
   "execution_count": null,
   "id": "FebXGtoF95DN",
   "metadata": {
    "id": "FebXGtoF95DN"
   },
   "outputs": [],
   "source": [
    "!find . -depth -type d -name \"challenge\" -execdir mv {} \"coco\" \\;"
   ]
  },
  {
   "cell_type": "markdown",
   "id": "rCuhVAFB_fyZ",
   "metadata": {
    "id": "rCuhVAFB_fyZ"
   },
   "source": [
    "move `coco` folder into `data` folder"
   ]
  },
  {
   "cell_type": "code",
   "execution_count": null,
   "id": "3gsViJIR_mcl",
   "metadata": {
    "id": "3gsViJIR_mcl"
   },
   "outputs": [],
   "source": [
    "!mkdir -p ../data/\n",
    "\n",
    "!mv coco/ ../data/"
   ]
  },
  {
   "cell_type": "markdown",
   "id": "vCnoDxD8-mqC",
   "metadata": {
    "id": "vCnoDxD8-mqC"
   },
   "source": [
    "### Exctract Video Frames"
   ]
  },
  {
   "cell_type": "code",
   "execution_count": null,
   "id": "2f272887-a830-4971-911f-be909fdfa404",
   "metadata": {
    "id": "2f272887-a830-4971-911f-be909fdfa404"
   },
   "outputs": [],
   "source": [
    "data_folder = \"../\"\n",
    "dataset = \"train\"\n",
    "video_path = os.path.join(data_folder, \"data\", \"coco\", \"images\", dataset, \"{}.mp4\".format(dataset))\n",
    "output_folder = os.path.join(data_folder, \"data\", \"coco\", \"images\", dataset, \"frames2\")\n",
    "\n",
    "if os.path.exists(output_folder):\n",
    "    shutil.rmtree(output_folder)\n",
    "\n",
    "os.makedirs(output_folder) "
   ]
  },
  {
   "cell_type": "code",
   "execution_count": null,
   "id": "5c50ff08-c0bc-460f-82de-b1bcb7c9ffc9",
   "metadata": {
    "id": "5c50ff08-c0bc-460f-82de-b1bcb7c9ffc9"
   },
   "outputs": [],
   "source": [
    "def get_video_meta_data(in_file):\n",
    "    reader = imageio.get_reader(in_file)\n",
    "    meta_data = reader.get_meta_data()\n",
    "    reader.close()\n",
    "    return meta_data\n",
    "\n",
    "\n",
    "def video_to_imgs(video_path, out_dir):\n",
    "    \n",
    "    frame_number = 0\n",
    "    video = cv2.VideoCapture(video_path)\n",
    "    print(\"Frames Count:\", int(video.get(cv2.CAP_PROP_FRAME_COUNT)))\n",
    "\n",
    "    success = True\n",
    "    while success:\n",
    "        success, image = video.read()\n",
    "        img_path = os.path.join(out_dir, \"{:04d}.jpg\".format(frame_number))\n",
    "        if success == True:\n",
    "            cv2.imwrite(img_path, image)\n",
    "            print('Frame {} Extracted Successfully'.format(frame_number), end=\"\\r\")\n",
    "            frame_number += 1\n",
    "    print('Video {} Extracted Successfully!'.format(video_path))"
   ]
  },
  {
   "cell_type": "code",
   "execution_count": null,
   "id": "ba3ff3d7-8133-437e-a48b-6c4c0dde7479",
   "metadata": {
    "id": "ba3ff3d7-8133-437e-a48b-6c4c0dde7479"
   },
   "outputs": [],
   "source": [
    "get_video_meta_data(video_path)"
   ]
  },
  {
   "cell_type": "code",
   "execution_count": null,
   "id": "b1601d08-a424-4d74-8b49-f9226d6b3de9",
   "metadata": {
    "id": "b1601d08-a424-4d74-8b49-f9226d6b3de9",
    "scrolled": true,
    "tags": []
   },
   "outputs": [],
   "source": [
    "video_to_imgs(video_path, output_folder)"
   ]
  },
  {
   "cell_type": "code",
   "execution_count": null,
   "id": "e_PK-DsGAXXO",
   "metadata": {
    "id": "e_PK-DsGAXXO"
   },
   "outputs": [],
   "source": []
  }
 ],
 "metadata": {
  "colab": {
   "provenance": []
  },
  "kernelspec": {
   "display_name": "Python 3 (ipykernel)",
   "language": "python",
   "name": "python3"
  },
  "language_info": {
   "codemirror_mode": {
    "name": "ipython",
    "version": 3
   },
   "file_extension": ".py",
   "mimetype": "text/x-python",
   "name": "python",
   "nbconvert_exporter": "python",
   "pygments_lexer": "ipython3",
   "version": "3.9.12"
  },
  "vscode": {
   "interpreter": {
    "hash": "3302f45d2aa19526f06f39d8f296fc0434d63a22902ee77b2eb24e9a089d4b2b"
   }
  }
 },
 "nbformat": 4,
 "nbformat_minor": 5
}
