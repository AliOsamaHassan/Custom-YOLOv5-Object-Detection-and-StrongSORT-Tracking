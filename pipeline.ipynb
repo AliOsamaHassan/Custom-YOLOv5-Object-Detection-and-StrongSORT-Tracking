{
 "cells": [
  {
   "cell_type": "markdown",
   "metadata": {},
   "source": [
    "### Mounting Google Drive"
   ]
  },
  {
   "cell_type": "code",
   "execution_count": null,
   "metadata": {},
   "outputs": [],
   "source": [
    "# from google.colab import drive\n",
    "# drive.mount('/content/drive')"
   ]
  },
  {
   "cell_type": "code",
   "execution_count": null,
   "metadata": {},
   "outputs": [],
   "source": [
    "# %cd /content/drive/MyDrive/Storma/machine-learning-challenge"
   ]
  },
  {
   "cell_type": "markdown",
   "metadata": {},
   "source": [
    "### Install Requirements"
   ]
  },
  {
   "cell_type": "code",
   "execution_count": null,
   "metadata": {
    "scrolled": true,
    "tags": []
   },
   "outputs": [],
   "source": [
    "# !pip3 install -r requirements.txt\n",
    "# !conda install pytorch==1.11.0 torchvision==0.12.0 torchaudio==0.11.0 cudatoolkit=11.3 -c pytorch"
   ]
  },
  {
   "cell_type": "markdown",
   "metadata": {},
   "source": [
    "### Check Nvidia and Cuda"
   ]
  },
  {
   "cell_type": "code",
   "execution_count": null,
   "metadata": {},
   "outputs": [],
   "source": [
    "!nvidia-smi"
   ]
  },
  {
   "cell_type": "code",
   "execution_count": null,
   "metadata": {},
   "outputs": [],
   "source": [
    "import torch\n",
    "torch.__version__  # '1.10.0+cu113'"
   ]
  },
  {
   "cell_type": "code",
   "execution_count": null,
   "metadata": {},
   "outputs": [],
   "source": [
    "torch.cuda.is_available()"
   ]
  },
  {
   "cell_type": "code",
   "execution_count": null,
   "metadata": {},
   "outputs": [],
   "source": [
    "torch.cuda.get_device_properties(0).name"
   ]
  },
  {
   "cell_type": "markdown",
   "metadata": {},
   "source": [
    "### Clone YOLOv5"
   ]
  },
  {
   "cell_type": "code",
   "execution_count": null,
   "metadata": {},
   "outputs": [],
   "source": [
    "import os\n",
    "\n",
    "HOME = os.getcwd()\n",
    "print(HOME)"
   ]
  },
  {
   "cell_type": "code",
   "execution_count": null,
   "metadata": {
    "scrolled": true,
    "tags": []
   },
   "outputs": [],
   "source": [
    "%cd {HOME}\n",
    "\n",
    "# clone YOLOv5\n",
    "# !git clone https://github.com/ultralytics/yolov5\n",
    "%cd yolov5\n",
    "!git pull\n",
    "%pip install -r requirements.txt\n",
    "!pip uninstall comet_ml  -y\n",
    "\n",
    "import utils\n",
    "display = utils.notebook_init()"
   ]
  },
  {
   "cell_type": "code",
   "execution_count": null,
   "metadata": {},
   "outputs": [],
   "source": [
    "import torch\n",
    "import os\n",
    "from IPython.display import Image, clear_output  # to display images\n",
    "\n",
    "print(\n",
    "    f\"Setup complete. Using torch {torch.__version__} ({torch.cuda.get_device_properties(0).name if torch.cuda.is_available() else 'CPU'})\"\n",
    ")"
   ]
  },
  {
   "cell_type": "markdown",
   "metadata": {},
   "source": [
    "### Global Variables"
   ]
  },
  {
   "cell_type": "code",
   "execution_count": null,
   "metadata": {},
   "outputs": [],
   "source": [
    "yolo_version = \"5\"\n",
    "\n",
    "coco_dataset_dir = os.path.join(HOME, \"data/coco\")\n",
    "yolo_dataset_dir = os.path.join(HOME, \"data/yolo\")\n",
    "experiments_folder = os.path.join(HOME, \"yolov{}/runs/train/\".format(yolo_version))\n",
    "weights_folder = os.path.join(HOME, \"yolov{}/runs/detect/\".format(yolo_version))\n",
    "yolo_weights_folder = os.path.join(HOME, \"weights\".format(yolo_version))\n",
    "pretrained_weights_path = os.path.join(yolo_weights_folder, \"yolov5l.pt\")\n",
    "\n",
    "# set up environment\n",
    "os.environ[\"DATASET_DIRECTORY\"] = yolo_dataset_dir"
   ]
  },
  {
   "cell_type": "markdown",
   "metadata": {},
   "source": [
    "### Download YOLO pretained weights"
   ]
  },
  {
   "cell_type": "code",
   "execution_count": null,
   "metadata": {},
   "outputs": [],
   "source": [
    "%cd {HOME}"
   ]
  },
  {
   "cell_type": "code",
   "execution_count": null,
   "metadata": {},
   "outputs": [],
   "source": [
    "!mkdir -p {yolo_weights_folder}\n",
    "%cd {yolo_weights_folder}\n",
    "\n",
    "# !wget https://github.com/ultralytics/yolov5/releases/download/v6.2/yolov5x6.pt\n",
    "# !wget https://github.com/ultralytics/yolov5/releases/download/v6.2/yolov5x.pt\n",
    "# !wget https://github.com/ultralytics/yolov5/releases/download/v6.2/yolov5l.pt\n",
    "# !wget https://github.com/WongKinYiu/yolov7/releases/download/v0.1/yolov7_training.pt\n",
    "\n",
    "%cd {HOME}"
   ]
  },
  {
   "cell_type": "markdown",
   "metadata": {},
   "source": [
    "### Train Custom YOLOv5 model\n",
    "\n",
    "Here, we are able to pass a number of arguments:\n",
    "- **img:** define input image size\n",
    "- **batch:** determine batch size\n",
    "- **epochs:** define the number of training epochs. (Note: often, 3000+ are common here!)\n",
    "- **data:** Our dataset locaiton is saved in the `DATASET_DIRECTORY`\n",
    "- **weights:** specify a path to weights to start transfer learning from. Here we choose the generic COCO pretrained checkpoint.\n",
    "- **cache:** cache images for faster training\n",
    "- **hyp:** determine hyperparameters yaml file\n"
   ]
  },
  {
   "cell_type": "markdown",
   "metadata": {},
   "source": [
    "##### Clean GPU memory before training"
   ]
  },
  {
   "cell_type": "code",
   "execution_count": null,
   "metadata": {},
   "outputs": [],
   "source": [
    "import gc\n",
    "gc.collect()\n",
    "torch.cuda.empty_cache()"
   ]
  },
  {
   "cell_type": "markdown",
   "metadata": {},
   "source": [
    "##### Start training"
   ]
  },
  {
   "cell_type": "code",
   "execution_count": null,
   "metadata": {
    "scrolled": true,
    "tags": []
   },
   "outputs": [],
   "source": [
    "!python yolov{yolo_version}/train.py \\\n",
    "    --batch 1 \\\n",
    "    --epochs 20 \\\n",
    "    --data {yolo_dataset_dir}/custom.yaml  \\\n",
    "    --weights {pretrained_weights_path} \\\n",
    "    --project {experiments_folder} \\\n",
    "    --device 0"
   ]
  },
  {
   "cell_type": "code",
   "execution_count": null,
   "metadata": {},
   "outputs": [],
   "source": [
    "!ls {experiments_folder}"
   ]
  },
  {
   "cell_type": "markdown",
   "metadata": {},
   "source": [
    "##### Start evalutation"
   ]
  },
  {
   "cell_type": "code",
   "execution_count": null,
   "metadata": {},
   "outputs": [],
   "source": [
    "!python yolov{yolo_version}/val.py \\\n",
    "    --weights yolov{yolo_version}/runs/train/exp2/weights/best.pt \\\n",
    "    --data {yolo_dataset_dir}/custom.yaml \\\n",
    "    --img 640 \\\n",
    "    --verbose \\\n",
    "    --device cpu"
   ]
  },
  {
   "cell_type": "markdown",
   "metadata": {},
   "source": [
    "### Run inference with the trained YOLOv5 model"
   ]
  },
  {
   "cell_type": "markdown",
   "metadata": {},
   "source": [
    "#### Run inference on images"
   ]
  },
  {
   "cell_type": "code",
   "execution_count": null,
   "metadata": {
    "scrolled": true,
    "tags": []
   },
   "outputs": [],
   "source": [
    "!python yolov{yolo_version}/detect.py \\\n",
    "    --weights yolov{yolo_version}/runs/train/exp2/weights/best.pt \\\n",
    "    --img 640 \\\n",
    "    --conf 0.5 \\\n",
    "    --source {yolo_dataset_dir}/test/images \\\n",
    "    --project {weights_folder}"
   ]
  },
  {
   "cell_type": "markdown",
   "metadata": {},
   "source": [
    "#### Run inference on videos"
   ]
  },
  {
   "cell_type": "code",
   "execution_count": null,
   "metadata": {
    "scrolled": true,
    "tags": []
   },
   "outputs": [],
   "source": [
    "!python yolov{yolo_version}/detect.py \\\n",
    "    --weights yolov{yolo_version}/runs/train/exp2/weights/best.pt \\\n",
    "    --img 640 \\\n",
    "    --conf 0.5 \\\n",
    "    --source {coco_dataset_dir}/images/test/test.mp4 \\\n",
    "    --project {weights_folder}"
   ]
  },
  {
   "cell_type": "code",
   "execution_count": null,
   "metadata": {},
   "outputs": [],
   "source": [
    "!ls {weights_folder}"
   ]
  },
  {
   "cell_type": "markdown",
   "metadata": {},
   "source": [
    "### Prediction Function For Inference"
   ]
  },
  {
   "cell_type": "code",
   "execution_count": null,
   "metadata": {},
   "outputs": [],
   "source": [
    "import torch\n",
    "import cv2\n",
    "import os\n",
    "import glob\n",
    "from IPython.display import Image, display\n",
    "\n",
    "def model_predict(image, model, size=416, output_folder=\"runs/detect/exp/\", show_img=False):\n",
    "\n",
    "    \"\"\"\n",
    "    image: can be: file, Path, PIL, OpenCV, numpy, list\n",
    "    model: weights file of trained torch model\n",
    "    size: size of the image\n",
    "    out_img_path: where to save the result image\n",
    "    \"\"\"\n",
    "\n",
    "    # Inference\n",
    "    results = model(image, size=size)\n",
    "    \n",
    "    # Show Results\n",
    "    if show_img:\n",
    "        results.show()\n",
    "        \n",
    "    # Save Results\n",
    "    if output_folder:\n",
    "        results.save(save_dir=output_folder, exist_ok=True)  \n",
    "    \n",
    "    # results.crop(), results.pandas(), etc.\n",
    "    # print(results.xyxy[0])  # im predictions (tensor)\n",
    "    # print(results.pandas().xyxy[0])  # im predictions (pandas)\n",
    "    # print(results.pandas().xyxy[0].value_counts('name'))  # class counts (pandas)\n"
   ]
  },
  {
   "cell_type": "markdown",
   "metadata": {},
   "source": [
    "Get model path of the last/best experiment"
   ]
  },
  {
   "cell_type": "code",
   "execution_count": null,
   "metadata": {},
   "outputs": [],
   "source": [
    "models_paths = glob.glob(os.path.join(HOME, experiments_folder, \"*\"))\n",
    "models_paths = sorted(models_paths, key=os.path.getmtime)\n",
    "model_path = os.path.join(models_paths[-1], \"weights/best.pt\")\n",
    "print(\"Using model weights file:\\n{}\\n\".format(model_path))"
   ]
  },
  {
   "cell_type": "markdown",
   "metadata": {},
   "source": [
    "Load inference model"
   ]
  },
  {
   "cell_type": "code",
   "execution_count": null,
   "metadata": {},
   "outputs": [],
   "source": [
    "model = torch.hub.load(f\"{HOME}/yolov{yolo_version}\", \"custom\", path=model_path, source=\"local\")\n",
    "if torch.cuda.is_available():\n",
    "    model.cuda()\n",
    "\n",
    "print(\"Model is loaded!\")"
   ]
  },
  {
   "cell_type": "markdown",
   "metadata": {},
   "source": [
    "Create output folder"
   ]
  },
  {
   "cell_type": "code",
   "execution_count": null,
   "metadata": {},
   "outputs": [],
   "source": [
    "from yolov5.utils.general import increment_path\n",
    "from pathlib import Path\n",
    "\n",
    "\n",
    "test_imgs_folder = os.path.join(HOME, yolo_dataset_dir, \"test/images\")\n",
    "print(test_imgs_folder)\n",
    "\n",
    "output_folder = os.path.join(HOME, 'yolov{}/runs/detect/exp/'.format(yolo_version))\n",
    "output_folder = increment_path(Path(output_folder), exist_ok=False)\n",
    "print(output_folder)\n",
    "\n",
    "if not os.path.isdir(output_folder):\n",
    "    os.mkdir(output_folder)"
   ]
  },
  {
   "cell_type": "markdown",
   "metadata": {},
   "source": [
    "Run inference"
   ]
  },
  {
   "cell_type": "code",
   "execution_count": null,
   "metadata": {
    "scrolled": true,
    "tags": []
   },
   "outputs": [],
   "source": [
    "from PIL import Image\n",
    "\n",
    "\n",
    "image_paths = [image_path for image_path in glob.glob(test_imgs_folder + \"/*\")][1000:1050]\n",
    "\n",
    "for image_path in image_paths:\n",
    "    print(image_path)\n",
    "    img_file_name = os.path.basename(image_path)\n",
    "    model_predict(\n",
    "        image_path, model=model, output_folder=output_folder, show_img = True\n",
    "    )\n"
   ]
  },
  {
   "cell_type": "code",
   "execution_count": null,
   "metadata": {},
   "outputs": [],
   "source": []
  },
  {
   "cell_type": "markdown",
   "metadata": {},
   "source": [
    "### YOLOv5 with StrongSORT Inference"
   ]
  },
  {
   "cell_type": "code",
   "execution_count": null,
   "metadata": {},
   "outputs": [],
   "source": [
    "import sys\n",
    "sys.path.append(\"yolov5\")\n",
    "\n",
    "from yolov5.utils.general import increment_path\n",
    "from pathlib import Path\n",
    "import glob\n",
    "import os\n",
    "\n",
    "yolo_version = \"5\"\n",
    "\n",
    "HOME = os.getcwd()\n",
    "coco_dataset_dir = os.path.join(HOME, \"data/coco/\")\n",
    "video_name = \"test\"\n",
    "input_video = os.path.join(coco_dataset_dir, \"images/test/{}.mp4\".format(video_name))\n",
    "print(\"[INFO] input_video:\", input_video)\n",
    "\n",
    "output_folder = os.path.join(HOME, \"yolov{}/runs/track/exp/\".format(yolo_version))\n",
    "output_folder = increment_path(Path(output_folder), exist_ok=False)\n",
    "print(\"[INFO] output_folder:\", output_folder)\n",
    "\n",
    "if not os.path.isdir(output_folder):\n",
    "    os.mkdir(output_folder)\n",
    "    \n",
    "experiments_folder = os.path.join(HOME, \"yolov{}/runs/train/\".format(yolo_version))\n",
    "models_paths = glob.glob(os.path.join(HOME, experiments_folder, \"*\"))\n",
    "models_paths = sorted(models_paths, key=os.path.getmtime)\n",
    "yolo_model_path = os.path.join(models_paths[-1], \"weights/best.pt\")\n",
    "print(\"[INFO] yolo_model_path:{}\".format(yolo_model_path))\n",
    "\n",
    "strong_sort_mode_path =  os.path.join(HOME, \"weights/osnet_x0_25_msmt17.pt\")\n",
    "print(\"[INFO] strong_sort_mode_path:{}\".format(strong_sort_mode_path))"
   ]
  },
  {
   "cell_type": "code",
   "execution_count": null,
   "metadata": {
    "scrolled": true,
    "tags": []
   },
   "outputs": [],
   "source": [
    "!python3 strongsort_yolov5_track.py \\\n",
    "    --source {input_video}   \\\n",
    "    --yolo-weights {yolo_model_path}  \\\n",
    "    --strong-sort-weights {strong_sort_mode_path} \\\n",
    "    --project {output_folder}  \\\n",
    "    --name {video_name}  \\\n",
    "    --device 0 \\\n",
    "    --save-txt \\\n",
    "    --count \\\n",
    "    --save-conf \\\n",
    "    --save-vid \\\n",
    "    --exist-ok\n",
    "#  --show-vid"
   ]
  },
  {
   "cell_type": "code",
   "execution_count": null,
   "metadata": {},
   "outputs": [],
   "source": []
  },
  {
   "cell_type": "markdown",
   "metadata": {},
   "source": [
    "### Inference optimization (ONNX)"
   ]
  },
  {
   "cell_type": "markdown",
   "metadata": {},
   "source": [
    "##### Export a Trained YOLOv5 Model to ONNX format"
   ]
  },
  {
   "cell_type": "code",
   "execution_count": null,
   "metadata": {},
   "outputs": [],
   "source": [
    "input_width = 640 \n",
    "input_height = 640\n",
    "\n",
    "!python3 yolov5/export.py \\\n",
    "    --weights ./yolov5/runs/train/exp2/weights/best.pt \\\n",
    "    --img {input_height} {input_width} \\\n",
    "    --batch 1 \\\n",
    "    --include \"onnx\" \\\n",
    "    --simplify \\\n",
    "    --device 0"
   ]
  },
  {
   "cell_type": "markdown",
   "metadata": {},
   "source": [
    "##### ONNX Runtime Evaluation"
   ]
  },
  {
   "cell_type": "code",
   "execution_count": null,
   "metadata": {},
   "outputs": [],
   "source": [
    "!python yolov{yolo_version}/val.py \\\n",
    "    --weights yolov{yolo_version}/runs/train/exp2/weights/best.onnx \\\n",
    "    --data {yolo_dataset_dir}/custom.yaml \\\n",
    "    --img 640 \\\n",
    "    --verbose \\\n",
    "    --batch-size 8 \\\n",
    "    --device 0"
   ]
  },
  {
   "cell_type": "markdown",
   "metadata": {},
   "source": [
    "##### ONNX Runtime Model Inference"
   ]
  },
  {
   "cell_type": "code",
   "execution_count": null,
   "metadata": {
    "scrolled": true,
    "tags": []
   },
   "outputs": [],
   "source": [
    "!python yolov{yolo_version}/detect.py \\\n",
    "    --weights yolov{yolo_version}/runs/train/exp2/weights/best.onnx \\\n",
    "    --img 640 \\\n",
    "    --conf 0.5 \\\n",
    "    --source {coco_dataset_dir}/images/test/test.mp4 \\\n",
    "    --project {weights_folder}"
   ]
  },
  {
   "cell_type": "markdown",
   "metadata": {},
   "source": [
    "### Inference optimization (TensorRT)"
   ]
  },
  {
   "cell_type": "markdown",
   "metadata": {},
   "source": [
    "##### Export a Trained YOLOv5 Model to TensorRT format"
   ]
  },
  {
   "cell_type": "code",
   "execution_count": null,
   "metadata": {
    "scrolled": true,
    "tags": []
   },
   "outputs": [],
   "source": [
    "input_width = 640 \n",
    "input_height = 640\n",
    "\n",
    "!python3 yolov5/export.py \\\n",
    "    --weights ./yolov5/runs/train/exp2/weights/best.pt \\\n",
    "    --img {input_height} {input_width} \\\n",
    "    --batch 1 \\\n",
    "    --include \"engine\" \\\n",
    "    --dynamic \\\n",
    "    --device 0"
   ]
  },
  {
   "cell_type": "markdown",
   "metadata": {},
   "source": [
    "##### TensorRT Evaluation"
   ]
  },
  {
   "cell_type": "code",
   "execution_count": null,
   "metadata": {},
   "outputs": [],
   "source": [
    "!python yolov{yolo_version}/val.py \\\n",
    "    --weights yolov{yolo_version}/runs/train/exp2/weights/best.engine \\\n",
    "    --data {yolo_dataset_dir}/custom.yaml \\\n",
    "    --img 640 \\\n",
    "    --verbose \\\n",
    "    --batch-size 8 \\\n",
    "    --device 0"
   ]
  },
  {
   "cell_type": "markdown",
   "metadata": {},
   "source": [
    "##### TensorRT Model Inference"
   ]
  },
  {
   "cell_type": "code",
   "execution_count": null,
   "metadata": {
    "scrolled": true,
    "tags": []
   },
   "outputs": [],
   "source": [
    "!python yolov{yolo_version}/detect.py \\\n",
    "    --weights yolov{yolo_version}/runs/train/exp2/weights/best.engine \\\n",
    "    --img 640 \\\n",
    "    --conf 0.5 \\\n",
    "    --data {yolo_dataset_dir}/custom.yaml \\\n",
    "    --source {coco_dataset_dir}/images/test/test.mp4 \\\n",
    "    --project {weights_folder}"
   ]
  },
  {
   "cell_type": "markdown",
   "metadata": {},
   "source": [
    "### Run YOLOv5 benchmarks (speed and accuracy) for all supported export formats."
   ]
  },
  {
   "cell_type": "code",
   "execution_count": 29,
   "metadata": {
    "scrolled": true,
    "tags": []
   },
   "outputs": [
    {
     "name": "stdout",
     "output_type": "stream",
     "text": [
      "\u001b[34m\u001b[1mbenchmarks: \u001b[0mweights=yolov5/runs/train/exp2/weights/best.pt, imgsz=640, batch_size=1, data=/media/ali/DATA/Projects/Storma/machine-learning-challenge/data/yolo/custom.yaml, device=0, half=False, test=False, pt_only=False, hard_fail=False\n",
      "YOLOv5 🚀 v7.0-97-gfa4bdbe Python-3.9.12 torch-1.13.1 CUDA:0 (NVIDIA GeForce RTX 3050 Laptop GPU, 3902MiB)\n",
      "\n",
      "YOLOv5 🚀 v7.0-97-gfa4bdbe Python-3.9.12 torch-1.13.1 CUDA:0 (NVIDIA GeForce RTX 3050 Laptop GPU, 3902MiB)\n",
      "\n",
      "Fusing layers... \n",
      "Model summary: 267 layers, 46113663 parameters, 0 gradients\n",
      "\u001b[34m\u001b[1mval: \u001b[0mScanning /media/ali/DATA/Projects/Storma/machine-learning-challenge/data/yo\u001b[0m\n",
      "                 Class     Images  Instances          P          R      mAP50   \n",
      "                   all       1800       4017      0.965      0.984      0.993      0.933\n",
      "                  bolt       1800       3258      0.983      0.967      0.992      0.921\n",
      "                   nut       1800        759      0.946          1      0.994      0.945\n",
      "Speed: 0.2ms pre-process, 32.8ms inference, 0.5ms NMS per image at shape (1, 3, 640, 640)\n",
      "Results saved to \u001b[1myolov5/runs/val/exp4\u001b[0m\n",
      "YOLOv5 🚀 v7.0-97-gfa4bdbe Python-3.9.12 torch-1.13.1 CUDA:0 (NVIDIA GeForce RTX 3050 Laptop GPU, 3902MiB)\n",
      "\n",
      "Fusing layers... \n",
      "Model summary: 267 layers, 46113663 parameters, 0 gradients\n",
      "\n",
      "\u001b[34m\u001b[1mPyTorch:\u001b[0m starting from yolov5/runs/train/exp2/weights/best.pt with output shape (1, 25200, 7) (353.1 MB)\n",
      "\n",
      "\u001b[34m\u001b[1mTorchScript:\u001b[0m starting export with torch 1.13.1...\n",
      "\u001b[34m\u001b[1mTorchScript:\u001b[0m export success ✅ 1.4s, saved as yolov5/runs/train/exp2/weights/best.torchscript (176.6 MB)\n",
      "\n",
      "Export complete (1.9s)\n",
      "Results saved to \u001b[1m/media/ali/DATA/Projects/Storma/machine-learning-challenge/yolov5/runs/train/exp2/weights\u001b[0m\n",
      "Detect:          python detect.py --weights yolov5/runs/train/exp2/weights/best.torchscript \n",
      "Validate:        python val.py --weights yolov5/runs/train/exp2/weights/best.torchscript \n",
      "PyTorch Hub:     model = torch.hub.load('ultralytics/yolov5', 'custom', 'yolov5/runs/train/exp2/weights/best.torchscript')  \n",
      "Visualize:       https://netron.app\n",
      "YOLOv5 🚀 v7.0-97-gfa4bdbe Python-3.9.12 torch-1.13.1 CUDA:0 (NVIDIA GeForce RTX 3050 Laptop GPU, 3902MiB)\n",
      "\n",
      "Loading yolov5/runs/train/exp2/weights/best.torchscript for TorchScript inference...\n",
      "\u001b[34m\u001b[1mval: \u001b[0mScanning /media/ali/DATA/Projects/Storma/machine-learning-challenge/data/yo\u001b[0m\n",
      "                 Class     Images  Instances          P          R      mAP50   \n",
      "                   all       1800       4017      0.965      0.984      0.993      0.933\n",
      "                  bolt       1800       3258      0.983      0.967      0.992      0.921\n",
      "                   nut       1800        759      0.946          1      0.994      0.945\n",
      "Speed: 0.2ms pre-process, 32.4ms inference, 0.4ms NMS per image at shape (1, 3, 640, 640)\n",
      "Results saved to \u001b[1myolov5/runs/val/exp5\u001b[0m\n",
      "YOLOv5 🚀 v7.0-97-gfa4bdbe Python-3.9.12 torch-1.13.1 CUDA:0 (NVIDIA GeForce RTX 3050 Laptop GPU, 3902MiB)\n",
      "\n",
      "Fusing layers... \n",
      "Model summary: 267 layers, 46113663 parameters, 0 gradients\n",
      "\n",
      "\u001b[34m\u001b[1mPyTorch:\u001b[0m starting from yolov5/runs/train/exp2/weights/best.pt with output shape (1, 25200, 7) (353.1 MB)\n",
      "\n",
      "\u001b[34m\u001b[1mONNX:\u001b[0m starting export with onnx 1.13.0...\n",
      "\u001b[34m\u001b[1mONNX:\u001b[0m export success ✅ 2.9s, saved as yolov5/runs/train/exp2/weights/best.onnx (176.4 MB)\n",
      "\n",
      "Export complete (3.4s)\n",
      "Results saved to \u001b[1m/media/ali/DATA/Projects/Storma/machine-learning-challenge/yolov5/runs/train/exp2/weights\u001b[0m\n",
      "Detect:          python detect.py --weights yolov5/runs/train/exp2/weights/best.onnx \n",
      "Validate:        python val.py --weights yolov5/runs/train/exp2/weights/best.onnx \n",
      "PyTorch Hub:     model = torch.hub.load('ultralytics/yolov5', 'custom', 'yolov5/runs/train/exp2/weights/best.onnx')  \n",
      "Visualize:       https://netron.app\n",
      "YOLOv5 🚀 v7.0-97-gfa4bdbe Python-3.9.12 torch-1.13.1 CUDA:0 (NVIDIA GeForce RTX 3050 Laptop GPU, 3902MiB)\n",
      "\n",
      "Loading yolov5/runs/train/exp2/weights/best.onnx for ONNX Runtime inference...\n",
      "Forcing --batch-size 1 square inference (1,3,640,640) for non-PyTorch models\n",
      "\u001b[34m\u001b[1mval: \u001b[0mScanning /media/ali/DATA/Projects/Storma/machine-learning-challenge/data/yo\u001b[0m\n",
      "                 Class     Images  Instances          P          R      mAP50   \n",
      "                   all       1800       4017      0.965      0.984      0.993      0.933\n",
      "                  bolt       1800       3258      0.983      0.967      0.992      0.921\n",
      "                   nut       1800        759      0.946          1      0.994      0.945\n",
      "Speed: 0.2ms pre-process, 34.4ms inference, 0.9ms NMS per image at shape (1, 3, 640, 640)\n",
      "Results saved to \u001b[1myolov5/runs/val/exp6\u001b[0m\n",
      "WARNING ⚠️ Benchmark failure for OpenVINO: inference not supported on GPU\n",
      "YOLOv5 🚀 v7.0-97-gfa4bdbe Python-3.9.12 torch-1.13.1 CUDA:0 (NVIDIA GeForce RTX 3050 Laptop GPU, 3902MiB)\n",
      "\n",
      "Fusing layers... \n",
      "Model summary: 267 layers, 46113663 parameters, 0 gradients\n",
      "\n",
      "\u001b[34m\u001b[1mPyTorch:\u001b[0m starting from yolov5/runs/train/exp2/weights/best.pt with output shape (1, 25200, 7) (353.1 MB)\n",
      "\n",
      "\u001b[34m\u001b[1mONNX:\u001b[0m starting export with onnx 1.13.0...\n",
      "\u001b[34m\u001b[1mONNX:\u001b[0m export success ✅ 2.8s, saved as yolov5/runs/train/exp2/weights/best.onnx (176.4 MB)\n",
      "\n",
      "\u001b[34m\u001b[1mTensorRT:\u001b[0m starting export with TensorRT 8.4.3.1...\n",
      "[02/13/2023-17:54:23] [TRT] [I] [MemUsageChange] Init CUDA: CPU +324, GPU +0, now: CPU 3762, GPU 3247 (MiB)\n",
      "[02/13/2023-17:54:24] [TRT] [I] [MemUsageChange] Init builder kernel library: CPU +331, GPU +104, now: CPU 4112, GPU 3351 (MiB)\n",
      "[02/13/2023-17:54:24] [TRT] [I] ----------------------------------------------------------------\n",
      "[02/13/2023-17:54:24] [TRT] [I] Input filename:   yolov5/runs/train/exp2/weights/best.onnx\n",
      "[02/13/2023-17:54:24] [TRT] [I] ONNX IR version:  0.0.7\n",
      "[02/13/2023-17:54:24] [TRT] [I] Opset version:    12\n",
      "[02/13/2023-17:54:24] [TRT] [I] Producer name:    pytorch\n",
      "[02/13/2023-17:54:24] [TRT] [I] Producer version: 1.13.1\n",
      "[02/13/2023-17:54:24] [TRT] [I] Domain:           \n",
      "[02/13/2023-17:54:24] [TRT] [I] Model version:    0\n",
      "[02/13/2023-17:54:24] [TRT] [I] Doc string:       \n",
      "[02/13/2023-17:54:24] [TRT] [I] ----------------------------------------------------------------\n",
      "[02/13/2023-17:54:24] [TRT] [W] onnx2trt_utils.cpp:369: Your ONNX model has been generated with INT64 weights, while TensorRT does not natively support INT64. Attempting to cast down to INT32.\n",
      "\u001b[34m\u001b[1mTensorRT:\u001b[0m input \"images\" with shape(1, 3, 640, 640) DataType.FLOAT\n",
      "\u001b[34m\u001b[1mTensorRT:\u001b[0m output \"output0\" with shape(1, 25200, 7) DataType.FLOAT\n",
      "\u001b[34m\u001b[1mTensorRT:\u001b[0m building FP32 engine as yolov5/runs/train/exp2/weights/best.engine\n",
      "[02/13/2023-17:54:25] [TRT] [I] [MemUsageChange] Init cuBLAS/cuBLASLt: CPU +0, GPU +8, now: CPU 4304, GPU 3359 (MiB)\n",
      "[02/13/2023-17:54:25] [TRT] [I] [MemUsageChange] Init cuDNN: CPU +0, GPU +12, now: CPU 4304, GPU 3371 (MiB)\n",
      "[02/13/2023-17:54:25] [TRT] [W] TensorRT was linked against cuDNN 8.4.1 but loaded cuDNN 8.3.2\n",
      "[02/13/2023-17:54:25] [TRT] [I] Local timing cache in use. Profiling results in this builder pass will not be stored.\n",
      "[02/13/2023-17:54:59] [TRT] [E] 2: [virtualMemoryBuffer.cpp::resizePhysical::144] Error Code 2: OutOfMemory (no further information)\n",
      "[02/13/2023-17:54:59] [TRT] [E] 2: [virtualMemoryBuffer.cpp::resizePhysical::144] Error Code 2: OutOfMemory (no further information)\n",
      "[02/13/2023-17:54:59] [TRT] [W] Requested amount of GPU memory (4294967296 bytes) could not be allocated. There may not be enough free memory for allocation to succeed.\n",
      "[02/13/2023-17:54:59] [TRT] [W] Skipping tactic 3 due to insufficient memory on requested size of 4294967296 detected for tactic 0x0000000000000004.\n",
      "Try decreasing the workspace size with IBuilderConfig::setMemoryPoolLimit().\n",
      "[02/13/2023-17:54:59] [TRT] [E] 2: [virtualMemoryBuffer.cpp::resizePhysical::144] Error Code 2: OutOfMemory (no further information)\n",
      "[02/13/2023-17:54:59] [TRT] [E] 2: [virtualMemoryBuffer.cpp::resizePhysical::144] Error Code 2: OutOfMemory (no further information)\n",
      "[02/13/2023-17:54:59] [TRT] [W] Requested amount of GPU memory (4294967296 bytes) could not be allocated. There may not be enough free memory for allocation to succeed.\n",
      "[02/13/2023-17:54:59] [TRT] [W] Skipping tactic 8 due to insufficient memory on requested size of 4294967296 detected for tactic 0x000000000000003c.\n",
      "Try decreasing the workspace size with IBuilderConfig::setMemoryPoolLimit().\n",
      "[02/13/2023-17:54:59] [TRT] [E] 2: [virtualMemoryBuffer.cpp::resizePhysical::144] Error Code 2: OutOfMemory (no further information)\n",
      "[02/13/2023-17:54:59] [TRT] [E] 2: [virtualMemoryBuffer.cpp::resizePhysical::144] Error Code 2: OutOfMemory (no further information)\n",
      "[02/13/2023-17:54:59] [TRT] [W] Requested amount of GPU memory (4294967296 bytes) could not be allocated. There may not be enough free memory for allocation to succeed.\n",
      "[02/13/2023-17:54:59] [TRT] [W] Skipping tactic 13 due to insufficient memory on requested size of 4294967296 detected for tactic 0x0000000000000074.\n",
      "Try decreasing the workspace size with IBuilderConfig::setMemoryPoolLimit().\n",
      "[02/13/2023-17:54:59] [TRT] [E] 2: [virtualMemoryBuffer.cpp::resizePhysical::144] Error Code 2: OutOfMemory (no further information)\n",
      "[02/13/2023-17:54:59] [TRT] [E] 2: [virtualMemoryBuffer.cpp::resizePhysical::144] Error Code 2: OutOfMemory (no further information)\n",
      "[02/13/2023-17:54:59] [TRT] [W] Requested amount of GPU memory (4294967296 bytes) could not be allocated. There may not be enough free memory for allocation to succeed.\n",
      "[02/13/2023-17:54:59] [TRT] [W] Skipping tactic 3 due to insufficient memory on requested size of 4294967296 detected for tactic 0x0000000000000004.\n",
      "Try decreasing the workspace size with IBuilderConfig::setMemoryPoolLimit().\n",
      "[02/13/2023-17:54:59] [TRT] [E] 2: [virtualMemoryBuffer.cpp::resizePhysical::144] Error Code 2: OutOfMemory (no further information)\n",
      "[02/13/2023-17:54:59] [TRT] [E] 2: [virtualMemoryBuffer.cpp::resizePhysical::144] Error Code 2: OutOfMemory (no further information)\n",
      "[02/13/2023-17:54:59] [TRT] [W] Requested amount of GPU memory (4294967296 bytes) could not be allocated. There may not be enough free memory for allocation to succeed.\n",
      "[02/13/2023-17:54:59] [TRT] [W] Skipping tactic 9 due to insufficient memory on requested size of 4294967296 detected for tactic 0x000000000000003c.\n",
      "Try decreasing the workspace size with IBuilderConfig::setMemoryPoolLimit().\n",
      "[02/13/2023-17:55:00] [TRT] [E] 2: [virtualMemoryBuffer.cpp::resizePhysical::144] Error Code 2: OutOfMemory (no further information)\n",
      "[02/13/2023-17:55:00] [TRT] [E] 2: [virtualMemoryBuffer.cpp::resizePhysical::144] Error Code 2: OutOfMemory (no further information)\n",
      "[02/13/2023-17:55:00] [TRT] [W] Requested amount of GPU memory (4294967296 bytes) could not be allocated. There may not be enough free memory for allocation to succeed.\n",
      "[02/13/2023-17:55:00] [TRT] [W] Skipping tactic 15 due to insufficient memory on requested size of 4294967296 detected for tactic 0x0000000000000074.\n",
      "Try decreasing the workspace size with IBuilderConfig::setMemoryPoolLimit().\n",
      "[02/13/2023-17:55:17] [TRT] [E] 2: [virtualMemoryBuffer.cpp::resizePhysical::144] Error Code 2: OutOfMemory (no further information)\n",
      "[02/13/2023-17:55:17] [TRT] [E] 2: [virtualMemoryBuffer.cpp::resizePhysical::144] Error Code 2: OutOfMemory (no further information)\n",
      "[02/13/2023-17:55:17] [TRT] [W] Requested amount of GPU memory (4294967296 bytes) could not be allocated. There may not be enough free memory for allocation to succeed.\n",
      "[02/13/2023-17:55:17] [TRT] [W] Skipping tactic 3 due to insufficient memory on requested size of 4294967296 detected for tactic 0x0000000000000004.\n",
      "Try decreasing the workspace size with IBuilderConfig::setMemoryPoolLimit().\n",
      "[02/13/2023-17:55:17] [TRT] [E] 2: [virtualMemoryBuffer.cpp::resizePhysical::144] Error Code 2: OutOfMemory (no further information)\n",
      "[02/13/2023-17:55:17] [TRT] [E] 2: [virtualMemoryBuffer.cpp::resizePhysical::144] Error Code 2: OutOfMemory (no further information)\n",
      "[02/13/2023-17:55:17] [TRT] [W] Requested amount of GPU memory (4294967296 bytes) could not be allocated. There may not be enough free memory for allocation to succeed.\n",
      "[02/13/2023-17:55:17] [TRT] [W] Skipping tactic 8 due to insufficient memory on requested size of 4294967296 detected for tactic 0x000000000000003c.\n",
      "Try decreasing the workspace size with IBuilderConfig::setMemoryPoolLimit().\n",
      "[02/13/2023-17:55:17] [TRT] [E] 2: [virtualMemoryBuffer.cpp::resizePhysical::144] Error Code 2: OutOfMemory (no further information)\n",
      "[02/13/2023-17:55:17] [TRT] [E] 2: [virtualMemoryBuffer.cpp::resizePhysical::144] Error Code 2: OutOfMemory (no further information)\n",
      "[02/13/2023-17:55:17] [TRT] [W] Requested amount of GPU memory (4294967296 bytes) could not be allocated. There may not be enough free memory for allocation to succeed.\n",
      "[02/13/2023-17:55:17] [TRT] [W] Skipping tactic 13 due to insufficient memory on requested size of 4294967296 detected for tactic 0x0000000000000074.\n",
      "Try decreasing the workspace size with IBuilderConfig::setMemoryPoolLimit().\n",
      "[02/13/2023-17:55:18] [TRT] [E] 2: [virtualMemoryBuffer.cpp::resizePhysical::144] Error Code 2: OutOfMemory (no further information)\n",
      "[02/13/2023-17:55:18] [TRT] [E] 2: [virtualMemoryBuffer.cpp::resizePhysical::144] Error Code 2: OutOfMemory (no further information)\n",
      "[02/13/2023-17:55:18] [TRT] [W] Requested amount of GPU memory (4294967296 bytes) could not be allocated. There may not be enough free memory for allocation to succeed.\n",
      "[02/13/2023-17:55:18] [TRT] [W] Skipping tactic 3 due to insufficient memory on requested size of 4294967296 detected for tactic 0x0000000000000004.\n",
      "Try decreasing the workspace size with IBuilderConfig::setMemoryPoolLimit().\n",
      "[02/13/2023-17:55:18] [TRT] [E] 2: [virtualMemoryBuffer.cpp::resizePhysical::144] Error Code 2: OutOfMemory (no further information)\n",
      "[02/13/2023-17:55:18] [TRT] [E] 2: [virtualMemoryBuffer.cpp::resizePhysical::144] Error Code 2: OutOfMemory (no further information)\n",
      "[02/13/2023-17:55:18] [TRT] [W] Requested amount of GPU memory (4294967296 bytes) could not be allocated. There may not be enough free memory for allocation to succeed.\n",
      "[02/13/2023-17:55:18] [TRT] [W] Skipping tactic 9 due to insufficient memory on requested size of 4294967296 detected for tactic 0x000000000000003c.\n",
      "Try decreasing the workspace size with IBuilderConfig::setMemoryPoolLimit().\n",
      "[02/13/2023-17:55:18] [TRT] [E] 2: [virtualMemoryBuffer.cpp::resizePhysical::144] Error Code 2: OutOfMemory (no further information)\n",
      "[02/13/2023-17:55:18] [TRT] [E] 2: [virtualMemoryBuffer.cpp::resizePhysical::144] Error Code 2: OutOfMemory (no further information)\n",
      "[02/13/2023-17:55:18] [TRT] [W] Requested amount of GPU memory (4294967296 bytes) could not be allocated. There may not be enough free memory for allocation to succeed.\n",
      "[02/13/2023-17:55:18] [TRT] [W] Skipping tactic 15 due to insufficient memory on requested size of 4294967296 detected for tactic 0x0000000000000074.\n",
      "Try decreasing the workspace size with IBuilderConfig::setMemoryPoolLimit().\n",
      "[02/13/2023-17:55:20] [TRT] [E] 2: [virtualMemoryBuffer.cpp::resizePhysical::144] Error Code 2: OutOfMemory (no further information)\n",
      "[02/13/2023-17:55:20] [TRT] [E] 2: [virtualMemoryBuffer.cpp::resizePhysical::144] Error Code 2: OutOfMemory (no further information)\n",
      "[02/13/2023-17:55:20] [TRT] [W] Requested amount of GPU memory (1073741824 bytes) could not be allocated. There may not be enough free memory for allocation to succeed.\n",
      "[02/13/2023-17:55:20] [TRT] [W] Skipping tactic 3 due to insufficient memory on requested size of 1073741824 detected for tactic 0x0000000000000005.\n",
      "Try decreasing the workspace size with IBuilderConfig::setMemoryPoolLimit().\n",
      "[02/13/2023-17:55:20] [TRT] [E] 2: [virtualMemoryBuffer.cpp::resizePhysical::144] Error Code 2: OutOfMemory (no further information)\n",
      "[02/13/2023-17:55:20] [TRT] [E] 2: [virtualMemoryBuffer.cpp::resizePhysical::144] Error Code 2: OutOfMemory (no further information)\n",
      "[02/13/2023-17:55:20] [TRT] [W] Requested amount of GPU memory (1073741824 bytes) could not be allocated. There may not be enough free memory for allocation to succeed.\n",
      "[02/13/2023-17:55:20] [TRT] [W] Skipping tactic 7 due to insufficient memory on requested size of 1073741824 detected for tactic 0x000000000000003d.\n",
      "Try decreasing the workspace size with IBuilderConfig::setMemoryPoolLimit().\n",
      "[02/13/2023-17:55:20] [TRT] [E] 2: [virtualMemoryBuffer.cpp::resizePhysical::144] Error Code 2: OutOfMemory (no further information)\n",
      "[02/13/2023-17:55:20] [TRT] [E] 2: [virtualMemoryBuffer.cpp::resizePhysical::144] Error Code 2: OutOfMemory (no further information)\n",
      "[02/13/2023-17:55:20] [TRT] [W] Requested amount of GPU memory (1073741824 bytes) could not be allocated. There may not be enough free memory for allocation to succeed.\n",
      "[02/13/2023-17:55:20] [TRT] [W] Skipping tactic 11 due to insufficient memory on requested size of 1073741824 detected for tactic 0x0000000000000075.\n",
      "Try decreasing the workspace size with IBuilderConfig::setMemoryPoolLimit().\n",
      "[02/13/2023-17:55:22] [TRT] [E] 2: [virtualMemoryBuffer.cpp::resizePhysical::144] Error Code 2: OutOfMemory (no further information)\n",
      "[02/13/2023-17:55:22] [TRT] [E] 2: [virtualMemoryBuffer.cpp::resizePhysical::144] Error Code 2: OutOfMemory (no further information)\n",
      "[02/13/2023-17:55:22] [TRT] [W] Requested amount of GPU memory (4294967296 bytes) could not be allocated. There may not be enough free memory for allocation to succeed.\n",
      "[02/13/2023-17:55:22] [TRT] [W] Skipping tactic 3 due to insufficient memory on requested size of 4294967296 detected for tactic 0x0000000000000004.\n",
      "Try decreasing the workspace size with IBuilderConfig::setMemoryPoolLimit().\n",
      "[02/13/2023-17:55:22] [TRT] [E] 2: [virtualMemoryBuffer.cpp::resizePhysical::144] Error Code 2: OutOfMemory (no further information)\n",
      "[02/13/2023-17:55:22] [TRT] [E] 2: [virtualMemoryBuffer.cpp::resizePhysical::144] Error Code 2: OutOfMemory (no further information)\n",
      "[02/13/2023-17:55:22] [TRT] [W] Requested amount of GPU memory (4294967296 bytes) could not be allocated. There may not be enough free memory for allocation to succeed.\n",
      "[02/13/2023-17:55:22] [TRT] [W] Skipping tactic 8 due to insufficient memory on requested size of 4294967296 detected for tactic 0x000000000000003c.\n",
      "Try decreasing the workspace size with IBuilderConfig::setMemoryPoolLimit().\n",
      "[02/13/2023-17:55:22] [TRT] [E] 2: [virtualMemoryBuffer.cpp::resizePhysical::144] Error Code 2: OutOfMemory (no further information)\n",
      "[02/13/2023-17:55:22] [TRT] [E] 2: [virtualMemoryBuffer.cpp::resizePhysical::144] Error Code 2: OutOfMemory (no further information)\n",
      "[02/13/2023-17:55:22] [TRT] [W] Requested amount of GPU memory (4294967296 bytes) could not be allocated. There may not be enough free memory for allocation to succeed.\n",
      "[02/13/2023-17:55:22] [TRT] [W] Skipping tactic 13 due to insufficient memory on requested size of 4294967296 detected for tactic 0x0000000000000074.\n",
      "Try decreasing the workspace size with IBuilderConfig::setMemoryPoolLimit().\n",
      "[02/13/2023-17:55:22] [TRT] [E] 2: [virtualMemoryBuffer.cpp::resizePhysical::144] Error Code 2: OutOfMemory (no further information)\n",
      "[02/13/2023-17:55:22] [TRT] [E] 2: [virtualMemoryBuffer.cpp::resizePhysical::144] Error Code 2: OutOfMemory (no further information)\n",
      "[02/13/2023-17:55:22] [TRT] [W] Requested amount of GPU memory (4294967296 bytes) could not be allocated. There may not be enough free memory for allocation to succeed.\n",
      "[02/13/2023-17:55:22] [TRT] [W] Skipping tactic 3 due to insufficient memory on requested size of 4294967296 detected for tactic 0x0000000000000004.\n",
      "Try decreasing the workspace size with IBuilderConfig::setMemoryPoolLimit().\n",
      "[02/13/2023-17:55:23] [TRT] [E] 2: [virtualMemoryBuffer.cpp::resizePhysical::144] Error Code 2: OutOfMemory (no further information)\n",
      "[02/13/2023-17:55:23] [TRT] [E] 2: [virtualMemoryBuffer.cpp::resizePhysical::144] Error Code 2: OutOfMemory (no further information)\n",
      "[02/13/2023-17:55:23] [TRT] [W] Requested amount of GPU memory (4294967296 bytes) could not be allocated. There may not be enough free memory for allocation to succeed.\n",
      "[02/13/2023-17:55:23] [TRT] [W] Skipping tactic 9 due to insufficient memory on requested size of 4294967296 detected for tactic 0x000000000000003c.\n",
      "Try decreasing the workspace size with IBuilderConfig::setMemoryPoolLimit().\n",
      "[02/13/2023-17:55:23] [TRT] [E] 2: [virtualMemoryBuffer.cpp::resizePhysical::144] Error Code 2: OutOfMemory (no further information)\n",
      "[02/13/2023-17:55:23] [TRT] [E] 2: [virtualMemoryBuffer.cpp::resizePhysical::144] Error Code 2: OutOfMemory (no further information)\n",
      "[02/13/2023-17:55:23] [TRT] [W] Requested amount of GPU memory (4294967296 bytes) could not be allocated. There may not be enough free memory for allocation to succeed.\n",
      "[02/13/2023-17:55:23] [TRT] [W] Skipping tactic 15 due to insufficient memory on requested size of 4294967296 detected for tactic 0x0000000000000074.\n",
      "Try decreasing the workspace size with IBuilderConfig::setMemoryPoolLimit().\n",
      "[02/13/2023-17:55:24] [TRT] [E] 2: [virtualMemoryBuffer.cpp::resizePhysical::144] Error Code 2: OutOfMemory (no further information)\n",
      "[02/13/2023-17:55:24] [TRT] [E] 2: [virtualMemoryBuffer.cpp::resizePhysical::144] Error Code 2: OutOfMemory (no further information)\n",
      "[02/13/2023-17:55:24] [TRT] [W] Requested amount of GPU memory (4294967296 bytes) could not be allocated. There may not be enough free memory for allocation to succeed.\n",
      "[02/13/2023-17:55:24] [TRT] [W] Skipping tactic 3 due to insufficient memory on requested size of 4294967296 detected for tactic 0x0000000000000005.\n",
      "Try decreasing the workspace size with IBuilderConfig::setMemoryPoolLimit().\n",
      "[02/13/2023-17:55:24] [TRT] [E] 2: [virtualMemoryBuffer.cpp::resizePhysical::144] Error Code 2: OutOfMemory (no further information)\n",
      "[02/13/2023-17:55:24] [TRT] [E] 2: [virtualMemoryBuffer.cpp::resizePhysical::144] Error Code 2: OutOfMemory (no further information)\n",
      "[02/13/2023-17:55:24] [TRT] [W] Requested amount of GPU memory (4294967296 bytes) could not be allocated. There may not be enough free memory for allocation to succeed.\n",
      "[02/13/2023-17:55:24] [TRT] [W] Skipping tactic 7 due to insufficient memory on requested size of 4294967296 detected for tactic 0x000000000000003d.\n",
      "Try decreasing the workspace size with IBuilderConfig::setMemoryPoolLimit().\n",
      "[02/13/2023-17:55:24] [TRT] [E] 2: [virtualMemoryBuffer.cpp::resizePhysical::144] Error Code 2: OutOfMemory (no further information)\n",
      "[02/13/2023-17:55:24] [TRT] [E] 2: [virtualMemoryBuffer.cpp::resizePhysical::144] Error Code 2: OutOfMemory (no further information)\n",
      "[02/13/2023-17:55:24] [TRT] [W] Requested amount of GPU memory (4294967296 bytes) could not be allocated. There may not be enough free memory for allocation to succeed.\n",
      "[02/13/2023-17:55:24] [TRT] [W] Skipping tactic 11 due to insufficient memory on requested size of 4294967296 detected for tactic 0x0000000000000075.\n",
      "Try decreasing the workspace size with IBuilderConfig::setMemoryPoolLimit().\n",
      "[02/13/2023-17:55:27] [TRT] [E] 2: [virtualMemoryBuffer.cpp::resizePhysical::144] Error Code 2: OutOfMemory (no further information)\n",
      "[02/13/2023-17:55:27] [TRT] [E] 2: [virtualMemoryBuffer.cpp::resizePhysical::144] Error Code 2: OutOfMemory (no further information)\n",
      "[02/13/2023-17:55:27] [TRT] [W] Requested amount of GPU memory (4294967296 bytes) could not be allocated. There may not be enough free memory for allocation to succeed.\n",
      "[02/13/2023-17:55:27] [TRT] [W] Skipping tactic 3 due to insufficient memory on requested size of 4294967296 detected for tactic 0x0000000000000004.\n",
      "Try decreasing the workspace size with IBuilderConfig::setMemoryPoolLimit().\n",
      "[02/13/2023-17:55:27] [TRT] [E] 2: [virtualMemoryBuffer.cpp::resizePhysical::144] Error Code 2: OutOfMemory (no further information)\n",
      "[02/13/2023-17:55:27] [TRT] [E] 2: [virtualMemoryBuffer.cpp::resizePhysical::144] Error Code 2: OutOfMemory (no further information)\n",
      "[02/13/2023-17:55:27] [TRT] [W] Requested amount of GPU memory (4294967296 bytes) could not be allocated. There may not be enough free memory for allocation to succeed.\n",
      "[02/13/2023-17:55:27] [TRT] [W] Skipping tactic 8 due to insufficient memory on requested size of 4294967296 detected for tactic 0x000000000000003c.\n",
      "Try decreasing the workspace size with IBuilderConfig::setMemoryPoolLimit().\n",
      "[02/13/2023-17:55:27] [TRT] [E] 2: [virtualMemoryBuffer.cpp::resizePhysical::144] Error Code 2: OutOfMemory (no further information)\n",
      "[02/13/2023-17:55:27] [TRT] [E] 2: [virtualMemoryBuffer.cpp::resizePhysical::144] Error Code 2: OutOfMemory (no further information)\n",
      "[02/13/2023-17:55:27] [TRT] [W] Requested amount of GPU memory (4294967296 bytes) could not be allocated. There may not be enough free memory for allocation to succeed.\n",
      "[02/13/2023-17:55:27] [TRT] [W] Skipping tactic 13 due to insufficient memory on requested size of 4294967296 detected for tactic 0x0000000000000074.\n",
      "Try decreasing the workspace size with IBuilderConfig::setMemoryPoolLimit().\n",
      "[02/13/2023-17:55:27] [TRT] [E] 2: [virtualMemoryBuffer.cpp::resizePhysical::144] Error Code 2: OutOfMemory (no further information)\n",
      "[02/13/2023-17:55:27] [TRT] [E] 2: [virtualMemoryBuffer.cpp::resizePhysical::144] Error Code 2: OutOfMemory (no further information)\n",
      "[02/13/2023-17:55:27] [TRT] [W] Requested amount of GPU memory (4294967296 bytes) could not be allocated. There may not be enough free memory for allocation to succeed.\n",
      "[02/13/2023-17:55:27] [TRT] [W] Skipping tactic 3 due to insufficient memory on requested size of 4294967296 detected for tactic 0x0000000000000004.\n",
      "Try decreasing the workspace size with IBuilderConfig::setMemoryPoolLimit().\n",
      "[02/13/2023-17:55:27] [TRT] [E] 2: [virtualMemoryBuffer.cpp::resizePhysical::144] Error Code 2: OutOfMemory (no further information)\n",
      "[02/13/2023-17:55:27] [TRT] [E] 2: [virtualMemoryBuffer.cpp::resizePhysical::144] Error Code 2: OutOfMemory (no further information)\n",
      "[02/13/2023-17:55:27] [TRT] [W] Requested amount of GPU memory (2147483648 bytes) could not be allocated. There may not be enough free memory for allocation to succeed.\n",
      "[02/13/2023-17:55:27] [TRT] [W] Skipping tactic 4 due to insufficient memory on requested size of 2147483648 detected for tactic 0x0000000000000005.\n",
      "Try decreasing the workspace size with IBuilderConfig::setMemoryPoolLimit().\n",
      "[02/13/2023-17:55:28] [TRT] [E] 2: [virtualMemoryBuffer.cpp::resizePhysical::144] Error Code 2: OutOfMemory (no further information)\n",
      "[02/13/2023-17:55:28] [TRT] [E] 2: [virtualMemoryBuffer.cpp::resizePhysical::144] Error Code 2: OutOfMemory (no further information)\n",
      "[02/13/2023-17:55:28] [TRT] [W] Requested amount of GPU memory (4294967296 bytes) could not be allocated. There may not be enough free memory for allocation to succeed.\n",
      "[02/13/2023-17:55:28] [TRT] [W] Skipping tactic 9 due to insufficient memory on requested size of 4294967296 detected for tactic 0x000000000000003c.\n",
      "Try decreasing the workspace size with IBuilderConfig::setMemoryPoolLimit().\n",
      "[02/13/2023-17:55:28] [TRT] [E] 2: [virtualMemoryBuffer.cpp::resizePhysical::144] Error Code 2: OutOfMemory (no further information)\n",
      "[02/13/2023-17:55:28] [TRT] [E] 2: [virtualMemoryBuffer.cpp::resizePhysical::144] Error Code 2: OutOfMemory (no further information)\n",
      "[02/13/2023-17:55:28] [TRT] [W] Requested amount of GPU memory (2147483648 bytes) could not be allocated. There may not be enough free memory for allocation to succeed.\n",
      "[02/13/2023-17:55:28] [TRT] [W] Skipping tactic 10 due to insufficient memory on requested size of 2147483648 detected for tactic 0x000000000000003d.\n",
      "Try decreasing the workspace size with IBuilderConfig::setMemoryPoolLimit().\n",
      "[02/13/2023-17:55:28] [TRT] [E] 2: [virtualMemoryBuffer.cpp::resizePhysical::144] Error Code 2: OutOfMemory (no further information)\n",
      "[02/13/2023-17:55:28] [TRT] [E] 2: [virtualMemoryBuffer.cpp::resizePhysical::144] Error Code 2: OutOfMemory (no further information)\n",
      "[02/13/2023-17:55:28] [TRT] [W] Requested amount of GPU memory (4294967296 bytes) could not be allocated. There may not be enough free memory for allocation to succeed.\n",
      "[02/13/2023-17:55:28] [TRT] [W] Skipping tactic 15 due to insufficient memory on requested size of 4294967296 detected for tactic 0x0000000000000074.\n",
      "Try decreasing the workspace size with IBuilderConfig::setMemoryPoolLimit().\n",
      "[02/13/2023-17:55:28] [TRT] [E] 2: [virtualMemoryBuffer.cpp::resizePhysical::144] Error Code 2: OutOfMemory (no further information)\n",
      "[02/13/2023-17:55:28] [TRT] [E] 2: [virtualMemoryBuffer.cpp::resizePhysical::144] Error Code 2: OutOfMemory (no further information)\n",
      "[02/13/2023-17:55:28] [TRT] [W] Requested amount of GPU memory (2147483648 bytes) could not be allocated. There may not be enough free memory for allocation to succeed.\n",
      "[02/13/2023-17:55:28] [TRT] [W] Skipping tactic 16 due to insufficient memory on requested size of 2147483648 detected for tactic 0x0000000000000075.\n",
      "Try decreasing the workspace size with IBuilderConfig::setMemoryPoolLimit().\n",
      "[02/13/2023-17:55:33] [TRT] [E] 2: [virtualMemoryBuffer.cpp::resizePhysical::144] Error Code 2: OutOfMemory (no further information)\n",
      "[02/13/2023-17:55:33] [TRT] [E] 2: [virtualMemoryBuffer.cpp::resizePhysical::144] Error Code 2: OutOfMemory (no further information)\n",
      "[02/13/2023-17:55:33] [TRT] [W] Requested amount of GPU memory (2147483648 bytes) could not be allocated. There may not be enough free memory for allocation to succeed.\n",
      "[02/13/2023-17:55:33] [TRT] [W] Skipping tactic 3 due to insufficient memory on requested size of 2147483648 detected for tactic 0x0000000000000005.\n",
      "Try decreasing the workspace size with IBuilderConfig::setMemoryPoolLimit().\n",
      "[02/13/2023-17:55:34] [TRT] [E] 2: [virtualMemoryBuffer.cpp::resizePhysical::144] Error Code 2: OutOfMemory (no further information)\n",
      "[02/13/2023-17:55:34] [TRT] [E] 2: [virtualMemoryBuffer.cpp::resizePhysical::144] Error Code 2: OutOfMemory (no further information)\n",
      "[02/13/2023-17:55:34] [TRT] [W] Requested amount of GPU memory (2147483648 bytes) could not be allocated. There may not be enough free memory for allocation to succeed.\n",
      "[02/13/2023-17:55:34] [TRT] [W] Skipping tactic 7 due to insufficient memory on requested size of 2147483648 detected for tactic 0x000000000000003d.\n",
      "Try decreasing the workspace size with IBuilderConfig::setMemoryPoolLimit().\n",
      "[02/13/2023-17:55:34] [TRT] [E] 2: [virtualMemoryBuffer.cpp::resizePhysical::144] Error Code 2: OutOfMemory (no further information)\n",
      "[02/13/2023-17:55:34] [TRT] [E] 2: [virtualMemoryBuffer.cpp::resizePhysical::144] Error Code 2: OutOfMemory (no further information)\n",
      "[02/13/2023-17:55:34] [TRT] [W] Requested amount of GPU memory (2147483648 bytes) could not be allocated. There may not be enough free memory for allocation to succeed.\n",
      "[02/13/2023-17:55:34] [TRT] [W] Skipping tactic 11 due to insufficient memory on requested size of 2147483648 detected for tactic 0x0000000000000075.\n",
      "Try decreasing the workspace size with IBuilderConfig::setMemoryPoolLimit().\n",
      "[02/13/2023-17:55:34] [TRT] [E] 2: [virtualMemoryBuffer.cpp::resizePhysical::144] Error Code 2: OutOfMemory (no further information)\n",
      "[02/13/2023-17:55:34] [TRT] [E] 2: [virtualMemoryBuffer.cpp::resizePhysical::144] Error Code 2: OutOfMemory (no further information)\n",
      "[02/13/2023-17:55:34] [TRT] [W] Requested amount of GPU memory (1073741824 bytes) could not be allocated. There may not be enough free memory for allocation to succeed.\n",
      "[02/13/2023-17:55:34] [TRT] [W] Skipping tactic 3 due to insufficient memory on requested size of 1073741824 detected for tactic 0x0000000000000004.\n",
      "Try decreasing the workspace size with IBuilderConfig::setMemoryPoolLimit().\n",
      "[02/13/2023-17:55:34] [TRT] [E] 2: [virtualMemoryBuffer.cpp::resizePhysical::144] Error Code 2: OutOfMemory (no further information)\n",
      "[02/13/2023-17:55:34] [TRT] [E] 2: [virtualMemoryBuffer.cpp::resizePhysical::144] Error Code 2: OutOfMemory (no further information)\n",
      "[02/13/2023-17:55:34] [TRT] [W] Requested amount of GPU memory (1073741824 bytes) could not be allocated. There may not be enough free memory for allocation to succeed.\n",
      "[02/13/2023-17:55:34] [TRT] [W] Skipping tactic 8 due to insufficient memory on requested size of 1073741824 detected for tactic 0x000000000000003c.\n",
      "Try decreasing the workspace size with IBuilderConfig::setMemoryPoolLimit().\n",
      "[02/13/2023-17:55:34] [TRT] [E] 2: [virtualMemoryBuffer.cpp::resizePhysical::144] Error Code 2: OutOfMemory (no further information)\n",
      "[02/13/2023-17:55:34] [TRT] [E] 2: [virtualMemoryBuffer.cpp::resizePhysical::144] Error Code 2: OutOfMemory (no further information)\n",
      "[02/13/2023-17:55:34] [TRT] [W] Requested amount of GPU memory (1073741824 bytes) could not be allocated. There may not be enough free memory for allocation to succeed.\n",
      "[02/13/2023-17:55:34] [TRT] [W] Skipping tactic 13 due to insufficient memory on requested size of 1073741824 detected for tactic 0x0000000000000074.\n",
      "Try decreasing the workspace size with IBuilderConfig::setMemoryPoolLimit().\n",
      "[02/13/2023-17:56:33] [TRT] [I] Detected 1 inputs and 4 output network tensors.\n",
      "[02/13/2023-17:56:33] [TRT] [I] Total Host Persistent Memory: 269408\n",
      "[02/13/2023-17:56:33] [TRT] [I] Total Device Persistent Memory: 1696768\n",
      "[02/13/2023-17:56:33] [TRT] [I] Total Scratch Memory: 0\n",
      "[02/13/2023-17:56:33] [TRT] [I] [MemUsageStats] Peak memory usage of TRT CPU/GPU memory allocators: CPU 0 MiB, GPU 0 MiB\n",
      "[02/13/2023-17:56:34] [TRT] [I] [BlockAssignment] Algorithm ShiftNTopDown took 129.219ms to assign 9 blocks to 327 nodes requiring 69632008 bytes.\n",
      "[02/13/2023-17:56:34] [TRT] [I] Total Activation Memory: 69632008\n",
      "[02/13/2023-17:56:34] [TRT] [I] [MemUsageChange] TensorRT-managed allocation in building engine: CPU +0, GPU +0, now: CPU 0, GPU 0 (MiB)\n",
      "[02/13/2023-17:56:34] [TRT] [W] The getMaxBatchSize() function should not be used with an engine built from a network created with NetworkDefinitionCreationFlag::kEXPLICIT_BATCH flag. This function will always return 1.\n",
      "[02/13/2023-17:56:34] [TRT] [W] The getMaxBatchSize() function should not be used with an engine built from a network created with NetworkDefinitionCreationFlag::kEXPLICIT_BATCH flag. This function will always return 1.\n",
      "\u001b[34m\u001b[1mTensorRT:\u001b[0m export success ✅ 135.7s, saved as yolov5/runs/train/exp2/weights/best.engine (183.4 MB)\n",
      "\n",
      "Export complete (136.4s)\n",
      "Results saved to \u001b[1m/media/ali/DATA/Projects/Storma/machine-learning-challenge/yolov5/runs/train/exp2/weights\u001b[0m\n",
      "Detect:          python detect.py --weights yolov5/runs/train/exp2/weights/best.engine \n",
      "Validate:        python val.py --weights yolov5/runs/train/exp2/weights/best.engine \n",
      "PyTorch Hub:     model = torch.hub.load('ultralytics/yolov5', 'custom', 'yolov5/runs/train/exp2/weights/best.engine')  \n",
      "Visualize:       https://netron.app\n",
      "YOLOv5 🚀 v7.0-97-gfa4bdbe Python-3.9.12 torch-1.13.1 CUDA:0 (NVIDIA GeForce RTX 3050 Laptop GPU, 3902MiB)\n",
      "\n",
      "Loading yolov5/runs/train/exp2/weights/best.engine for TensorRT inference...\n",
      "[02/13/2023-17:56:36] [TRT] [I] The logger passed into createInferRuntime differs from one already provided for an existing builder, runtime, or refitter. Uses of the global logger, returned by nvinfer1::getLogger(), will return the existing value.\n",
      "\n",
      "[02/13/2023-17:56:36] [TRT] [I] [MemUsageChange] Init CUDA: CPU +0, GPU +0, now: CPU 4302, GPU 3353 (MiB)\n",
      "[02/13/2023-17:56:36] [TRT] [I] Loaded engine size: 183 MiB\n",
      "[02/13/2023-17:56:36] [TRT] [I] [MemUsageChange] TensorRT-managed allocation in engine deserialization: CPU +0, GPU +0, now: CPU 0, GPU 0 (MiB)\n",
      "[02/13/2023-17:56:36] [TRT] [I] [MemUsageChange] TensorRT-managed allocation in IExecutionContext creation: CPU +0, GPU +0, now: CPU 0, GPU 0 (MiB)\n",
      "\u001b[34m\u001b[1mval: \u001b[0mScanning /media/ali/DATA/Projects/Storma/machine-learning-challenge/data/yo\u001b[0m\n",
      "                 Class     Images  Instances          P          R      mAP50   \n",
      "                   all       1800       4017      0.965      0.984      0.993      0.933\n",
      "                  bolt       1800       3258      0.983      0.967      0.992      0.921\n",
      "                   nut       1800        759      0.946          1      0.994      0.945\n",
      "Speed: 0.2ms pre-process, 23.7ms inference, 0.9ms NMS per image at shape (1, 3, 640, 640)\n",
      "Results saved to \u001b[1myolov5/runs/val/exp7\u001b[0m\n",
      "WARNING ⚠️ Benchmark failure for CoreML: inference only supported on macOS>=10.13\n",
      "YOLOv5 🚀 v7.0-97-gfa4bdbe Python-3.9.12 torch-1.13.1 CUDA:0 (NVIDIA GeForce RTX 3050 Laptop GPU, 3902MiB)\n",
      "\n",
      "Fusing layers... \n",
      "Model summary: 267 layers, 46113663 parameters, 0 gradients\n",
      "\n",
      "\u001b[34m\u001b[1mPyTorch:\u001b[0m starting from yolov5/runs/train/exp2/weights/best.pt with output shape (1, 25200, 7) (353.1 MB)\n",
      "2023-02-13 17:57:36.177892: I tensorflow/core/util/util.cc:169] oneDNN custom operations are on. You may see slightly different numerical results due to floating-point round-off errors from different computation orders. To turn them off, set the environment variable `TF_ENABLE_ONEDNN_OPTS=0`.\n",
      "\n",
      "\u001b[34m\u001b[1mTensorFlow SavedModel:\u001b[0m starting export with tensorflow 2.9.1...\n",
      "\n",
      "                 from  n    params  module                                  arguments                     \n",
      "2023-02-13 17:57:38.956322: I tensorflow/stream_executor/cuda/cuda_gpu_executor.cc:975] successful NUMA node read from SysFS had negative value (-1), but there must be at least one NUMA node, so returning NUMA node zero\n",
      "2023-02-13 17:57:38.961234: I tensorflow/stream_executor/cuda/cuda_gpu_executor.cc:975] successful NUMA node read from SysFS had negative value (-1), but there must be at least one NUMA node, so returning NUMA node zero\n",
      "2023-02-13 17:57:38.961550: I tensorflow/stream_executor/cuda/cuda_gpu_executor.cc:975] successful NUMA node read from SysFS had negative value (-1), but there must be at least one NUMA node, so returning NUMA node zero\n",
      "2023-02-13 17:57:38.962244: I tensorflow/core/platform/cpu_feature_guard.cc:193] This TensorFlow binary is optimized with oneAPI Deep Neural Network Library (oneDNN) to use the following CPU instructions in performance-critical operations:  AVX2 AVX_VNNI FMA\n",
      "To enable them in other operations, rebuild TensorFlow with the appropriate compiler flags.\n",
      "2023-02-13 17:57:38.964711: I tensorflow/stream_executor/cuda/cuda_gpu_executor.cc:975] successful NUMA node read from SysFS had negative value (-1), but there must be at least one NUMA node, so returning NUMA node zero\n",
      "2023-02-13 17:57:38.964957: I tensorflow/stream_executor/cuda/cuda_gpu_executor.cc:975] successful NUMA node read from SysFS had negative value (-1), but there must be at least one NUMA node, so returning NUMA node zero\n",
      "2023-02-13 17:57:38.965120: I tensorflow/stream_executor/cuda/cuda_gpu_executor.cc:975] successful NUMA node read from SysFS had negative value (-1), but there must be at least one NUMA node, so returning NUMA node zero\n",
      "2023-02-13 17:57:39.742090: I tensorflow/stream_executor/cuda/cuda_gpu_executor.cc:975] successful NUMA node read from SysFS had negative value (-1), but there must be at least one NUMA node, so returning NUMA node zero\n",
      "2023-02-13 17:57:39.742229: I tensorflow/stream_executor/cuda/cuda_gpu_executor.cc:975] successful NUMA node read from SysFS had negative value (-1), but there must be at least one NUMA node, so returning NUMA node zero\n",
      "2023-02-13 17:57:39.742291: I tensorflow/stream_executor/cuda/cuda_gpu_executor.cc:975] successful NUMA node read from SysFS had negative value (-1), but there must be at least one NUMA node, so returning NUMA node zero\n",
      "2023-02-13 17:57:39.742357: I tensorflow/core/common_runtime/gpu/gpu_device.cc:1532] Created device /job:localhost/replica:0/task:0/device:GPU:0 with 721 MB memory:  -> device: 0, name: NVIDIA GeForce RTX 3050 Laptop GPU, pci bus id: 0000:01:00.0, compute capability: 8.6\n",
      "  0                -1  1      7040  models.common.Conv                      [3, 64, 6, 2, 2]              \n",
      "  1                -1  1     73984  models.common.Conv                      [64, 128, 3, 2]               \n",
      "  2                -1  1    156928  models.common.C3                        [128, 128, 3]                 \n",
      "  3                -1  1    295424  models.common.Conv                      [128, 256, 3, 2]              \n",
      "  4                -1  1   1118208  models.common.C3                        [256, 256, 6]                 \n",
      "  5                -1  1   1180672  models.common.Conv                      [256, 512, 3, 2]              \n",
      "  6                -1  1   6433792  models.common.C3                        [512, 512, 9]                 \n",
      "  7                -1  1   4720640  models.common.Conv                      [512, 1024, 3, 2]             \n",
      "  8                -1  1   9971712  models.common.C3                        [1024, 1024, 3]               \n",
      "  9                -1  1   2624512  models.common.SPPF                      [1024, 1024, 5]               \n",
      " 10                -1  1    525312  models.common.Conv                      [1024, 512, 1, 1]             \n",
      " 11                -1  1         0  torch.nn.modules.upsampling.Upsample    [None, 2, 'nearest']          \n",
      " 12           [-1, 6]  1         0  models.common.Concat                    [1]                           \n",
      " 13                -1  1   2757632  models.common.C3                        [1024, 512, 3, False]         \n",
      " 14                -1  1    131584  models.common.Conv                      [512, 256, 1, 1]              \n",
      " 15                -1  1         0  torch.nn.modules.upsampling.Upsample    [None, 2, 'nearest']          \n",
      " 16           [-1, 4]  1         0  models.common.Concat                    [1]                           \n",
      " 17                -1  1    690688  models.common.C3                        [512, 256, 3, False]          \n",
      " 18                -1  1    590336  models.common.Conv                      [256, 256, 3, 2]              \n",
      " 19          [-1, 14]  1         0  models.common.Concat                    [1]                           \n",
      " 20                -1  1   2495488  models.common.C3                        [512, 512, 3, False]          \n",
      " 21                -1  1   2360320  models.common.Conv                      [512, 512, 3, 2]              \n",
      " 22          [-1, 10]  1         0  models.common.Concat                    [1]                           \n",
      " 23                -1  1   9971712  models.common.C3                        [1024, 1024, 3, False]        \n",
      " 24      [17, 20, 23]  1     37695  models.yolo.Detect                      [2, [[10, 13, 16, 30, 33, 23], [30, 61, 62, 45, 59, 119], [116, 90, 156, 198, 373, 326]], [256, 512, 1024], [640, 640]]\n",
      "2023-02-13 17:57:40.169796: I tensorflow/stream_executor/cuda/cuda_dnn.cc:384] Loaded cuDNN version 8302\n",
      "2023-02-13 17:57:40.387824: I tensorflow/stream_executor/cuda/cuda_blas.cc:1786] TensorFloat-32 will be used for the matrix multiplication. This will only be logged once.\n",
      "2023-02-13 17:57:40.490870: W tensorflow/core/common_runtime/bfc_allocator.cc:290] Allocator (GPU_0_bfc) ran out of memory trying to allocate 2.06GiB with freed_by_count=0. The caller indicates that this is not a failure, but this may mean that there could be performance gains if more memory were available.\n",
      "2023-02-13 17:57:40.490930: W tensorflow/core/common_runtime/bfc_allocator.cc:290] Allocator (GPU_0_bfc) ran out of memory trying to allocate 2.06GiB with freed_by_count=0. The caller indicates that this is not a failure, but this may mean that there could be performance gains if more memory were available.\n",
      "2023-02-13 17:57:40.705891: W tensorflow/core/common_runtime/bfc_allocator.cc:290] Allocator (GPU_0_bfc) ran out of memory trying to allocate 2.06GiB with freed_by_count=0. The caller indicates that this is not a failure, but this may mean that there could be performance gains if more memory were available.\n",
      "2023-02-13 17:57:40.705924: W tensorflow/core/common_runtime/bfc_allocator.cc:290] Allocator (GPU_0_bfc) ran out of memory trying to allocate 2.06GiB with freed_by_count=0. The caller indicates that this is not a failure, but this may mean that there could be performance gains if more memory were available.\n",
      "2023-02-13 17:57:40.940722: W tensorflow/core/common_runtime/bfc_allocator.cc:290] Allocator (GPU_0_bfc) ran out of memory trying to allocate 2.09GiB with freed_by_count=0. The caller indicates that this is not a failure, but this may mean that there could be performance gains if more memory were available.\n",
      "2023-02-13 17:57:40.940754: W tensorflow/core/common_runtime/bfc_allocator.cc:290] Allocator (GPU_0_bfc) ran out of memory trying to allocate 2.09GiB with freed_by_count=0. The caller indicates that this is not a failure, but this may mean that there could be performance gains if more memory were available.\n",
      "2023-02-13 17:57:41.029836: W tensorflow/core/common_runtime/bfc_allocator.cc:290] Allocator (GPU_0_bfc) ran out of memory trying to allocate 2.15GiB with freed_by_count=0. The caller indicates that this is not a failure, but this may mean that there could be performance gains if more memory were available.\n",
      "2023-02-13 17:57:41.029868: W tensorflow/core/common_runtime/bfc_allocator.cc:290] Allocator (GPU_0_bfc) ran out of memory trying to allocate 2.15GiB with freed_by_count=0. The caller indicates that this is not a failure, but this may mean that there could be performance gains if more memory were available.\n",
      "2023-02-13 17:57:41.101542: W tensorflow/core/common_runtime/bfc_allocator.cc:290] Allocator (GPU_0_bfc) ran out of memory trying to allocate 2.15GiB with freed_by_count=0. The caller indicates that this is not a failure, but this may mean that there could be performance gains if more memory were available.\n",
      "2023-02-13 17:57:41.101579: W tensorflow/core/common_runtime/bfc_allocator.cc:290] Allocator (GPU_0_bfc) ran out of memory trying to allocate 2.15GiB with freed_by_count=0. The caller indicates that this is not a failure, but this may mean that there could be performance gains if more memory were available.\n",
      "Model: \"model\"\n",
      "__________________________________________________________________________________________________\n",
      " Layer (type)                   Output Shape         Param #     Connected to                     \n",
      "==================================================================================================\n",
      " input_1 (InputLayer)           [(1, 640, 640, 3)]   0           []                               \n",
      "                                                                                                  \n",
      " tf_conv (TFConv)               (1, 320, 320, 64)    6976        ['input_1[0][0]']                \n",
      "                                                                                                  \n",
      " tf_conv_1 (TFConv)             (1, 160, 160, 128)   73856       ['tf_conv[0][0]']                \n",
      "                                                                                                  \n",
      " tfc3 (TFC3)                    (1, 160, 160, 128)   156288      ['tf_conv_1[0][0]']              \n",
      "                                                                                                  \n",
      " tf_conv_11 (TFConv)            (1, 80, 80, 256)     295168      ['tfc3[0][0]']                   \n",
      "                                                                                                  \n",
      " tfc3_1 (TFC3)                  (1, 80, 80, 256)     1116160     ['tf_conv_11[0][0]']             \n",
      "                                                                                                  \n",
      " tf_conv_27 (TFConv)            (1, 40, 40, 512)     1180160     ['tfc3_1[0][0]']                 \n",
      "                                                                                                  \n",
      " tfc3_2 (TFC3)                  (1, 40, 40, 512)     6428160     ['tf_conv_27[0][0]']             \n",
      "                                                                                                  \n",
      " tf_conv_49 (TFConv)            (1, 20, 20, 1024)    4719616     ['tfc3_2[0][0]']                 \n",
      "                                                                                                  \n",
      " tfc3_3 (TFC3)                  (1, 20, 20, 1024)    9966592     ['tf_conv_49[0][0]']             \n",
      "                                                                                                  \n",
      " tfsppf (TFSPPF)                (1, 20, 20, 1024)    2622976     ['tfc3_3[0][0]']                 \n",
      "                                                                                                  \n",
      " tf_conv_61 (TFConv)            (1, 20, 20, 512)     524800      ['tfsppf[0][0]']                 \n",
      "                                                                                                  \n",
      " tf_upsample (TFUpsample)       (1, 40, 40, 512)     0           ['tf_conv_61[0][0]']             \n",
      "                                                                                                  \n",
      " tf_concat (TFConcat)           (1, 40, 40, 1024)    0           ['tf_upsample[0][0]',            \n",
      "                                                                  'tfc3_2[0][0]']                 \n",
      "                                                                                                  \n",
      " tfc3_4 (TFC3)                  (1, 40, 40, 512)     2755072     ['tf_concat[0][0]']              \n",
      "                                                                                                  \n",
      " tf_conv_71 (TFConv)            (1, 40, 40, 256)     131328      ['tfc3_4[0][0]']                 \n",
      "                                                                                                  \n",
      " tf_upsample_1 (TFUpsample)     (1, 80, 80, 256)     0           ['tf_conv_71[0][0]']             \n",
      "                                                                                                  \n",
      " tf_concat_1 (TFConcat)         (1, 80, 80, 512)     0           ['tf_upsample_1[0][0]',          \n",
      "                                                                  'tfc3_1[0][0]']                 \n",
      "                                                                                                  \n",
      " tfc3_5 (TFC3)                  (1, 80, 80, 256)     689408      ['tf_concat_1[0][0]']            \n",
      "                                                                                                  \n",
      " tf_conv_81 (TFConv)            (1, 40, 40, 256)     590080      ['tfc3_5[0][0]']                 \n",
      "                                                                                                  \n",
      " tf_concat_2 (TFConcat)         (1, 40, 40, 512)     0           ['tf_conv_81[0][0]',             \n",
      "                                                                  'tf_conv_71[0][0]']             \n",
      "                                                                                                  \n",
      " tfc3_6 (TFC3)                  (1, 40, 40, 512)     2492928     ['tf_concat_2[0][0]']            \n",
      "                                                                                                  \n",
      " tf_conv_91 (TFConv)            (1, 20, 20, 512)     2359808     ['tfc3_6[0][0]']                 \n",
      "                                                                                                  \n",
      " tf_concat_3 (TFConcat)         (1, 20, 20, 1024)    0           ['tf_conv_91[0][0]',             \n",
      "                                                                  'tf_conv_61[0][0]']             \n",
      "                                                                                                  \n",
      " tfc3_7 (TFC3)                  (1, 20, 20, 1024)    9966592     ['tf_concat_3[0][0]']            \n",
      "                                                                                                  \n",
      " tf_detect (TFDetect)           ((1, 25200, 7),      37695       ['tfc3_5[0][0]',                 \n",
      "                                )                                 'tfc3_6[0][0]',                 \n",
      "                                                                  'tfc3_7[0][0]']                 \n",
      "                                                                                                  \n",
      "==================================================================================================\n",
      "Total params: 46,113,663\n",
      "Trainable params: 0\n",
      "Non-trainable params: 46,113,663\n",
      "__________________________________________________________________________________________________\n",
      "2023-02-13 17:57:42.651732: I tensorflow/stream_executor/cuda/cuda_gpu_executor.cc:975] successful NUMA node read from SysFS had negative value (-1), but there must be at least one NUMA node, so returning NUMA node zero\n",
      "2023-02-13 17:57:42.651845: I tensorflow/core/grappler/devices.cc:66] Number of eligible GPUs (core count >= 8, compute capability >= 0.0): 1\n",
      "2023-02-13 17:57:42.651969: I tensorflow/core/grappler/clusters/single_machine.cc:358] Starting new session\n",
      "2023-02-13 17:57:42.652393: I tensorflow/stream_executor/cuda/cuda_gpu_executor.cc:975] successful NUMA node read from SysFS had negative value (-1), but there must be at least one NUMA node, so returning NUMA node zero\n",
      "2023-02-13 17:57:42.652489: I tensorflow/stream_executor/cuda/cuda_gpu_executor.cc:975] successful NUMA node read from SysFS had negative value (-1), but there must be at least one NUMA node, so returning NUMA node zero\n",
      "2023-02-13 17:57:42.652542: I tensorflow/stream_executor/cuda/cuda_gpu_executor.cc:975] successful NUMA node read from SysFS had negative value (-1), but there must be at least one NUMA node, so returning NUMA node zero\n",
      "2023-02-13 17:57:42.652628: I tensorflow/stream_executor/cuda/cuda_gpu_executor.cc:975] successful NUMA node read from SysFS had negative value (-1), but there must be at least one NUMA node, so returning NUMA node zero\n",
      "2023-02-13 17:57:42.652683: I tensorflow/stream_executor/cuda/cuda_gpu_executor.cc:975] successful NUMA node read from SysFS had negative value (-1), but there must be at least one NUMA node, so returning NUMA node zero\n",
      "2023-02-13 17:57:42.652732: I tensorflow/core/common_runtime/gpu/gpu_device.cc:1532] Created device /job:localhost/replica:0/task:0/device:GPU:0 with 721 MB memory:  -> device: 0, name: NVIDIA GeForce RTX 3050 Laptop GPU, pci bus id: 0000:01:00.0, compute capability: 8.6\n",
      "\u001b[34m\u001b[1mTensorFlow SavedModel:\u001b[0m export success ✅ 13.9s, saved as yolov5/runs/train/exp2/weights/best_saved_model (176.3 MB)\n",
      "\n",
      "Export complete (14.7s)\n",
      "Results saved to \u001b[1m/media/ali/DATA/Projects/Storma/machine-learning-challenge/yolov5/runs/train/exp2/weights\u001b[0m\n",
      "Detect:          python detect.py --weights yolov5/runs/train/exp2/weights/best_saved_model \n",
      "Validate:        python val.py --weights yolov5/runs/train/exp2/weights/best_saved_model \n",
      "PyTorch Hub:     model = torch.hub.load('ultralytics/yolov5', 'custom', 'yolov5/runs/train/exp2/weights/best_saved_model')  \n",
      "Visualize:       https://netron.app\n",
      "YOLOv5 🚀 v7.0-97-gfa4bdbe Python-3.9.12 torch-1.13.1 CUDA:0 (NVIDIA GeForce RTX 3050 Laptop GPU, 3902MiB)\n",
      "\n",
      "Loading yolov5/runs/train/exp2/weights/best_saved_model for TensorFlow SavedModel inference...\n",
      "WARNING:absl:Importing a function (__inference_pruned_11038) with ops with unsaved custom gradients. Will likely fail if a gradient is requested.\n"
     ]
    }
   ],
   "source": [
    "!python yolov{yolo_version}/benchmarks.py \\\n",
    "    --weights yolov{yolo_version}/runs/train/exp2/weights/best.pt \\\n",
    "    --data {yolo_dataset_dir}/custom.yaml \\\n",
    "    --imgsz 640 \\\n",
    "    --device 0"
   ]
  },
  {
   "cell_type": "code",
   "execution_count": null,
   "metadata": {},
   "outputs": [],
   "source": []
  }
 ],
 "metadata": {
  "kernelspec": {
   "display_name": "tf",
   "language": "python",
   "name": "tf"
  },
  "language_info": {
   "codemirror_mode": {
    "name": "ipython",
    "version": 3
   },
   "file_extension": ".py",
   "mimetype": "text/x-python",
   "name": "python",
   "nbconvert_exporter": "python",
   "pygments_lexer": "ipython3",
   "version": "3.9.12"
  },
  "vscode": {
   "interpreter": {
    "hash": "3302f45d2aa19526f06f39d8f296fc0434d63a22902ee77b2eb24e9a089d4b2b"
   }
  }
 },
 "nbformat": 4,
 "nbformat_minor": 4
}
