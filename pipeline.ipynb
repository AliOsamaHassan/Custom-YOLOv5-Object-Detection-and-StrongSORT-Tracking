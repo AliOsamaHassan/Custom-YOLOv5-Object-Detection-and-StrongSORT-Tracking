{
 "cells": [
  {
   "cell_type": "code",
   "execution_count": null,
   "metadata": {},
   "outputs": [],
   "source": [
    "from google.colab import drive\n",
    "drive.mount('/content/drive')"
   ]
  },
  {
   "cell_type": "code",
   "execution_count": null,
   "metadata": {},
   "outputs": [],
   "source": [
    "%cd /content/drive/MyDrive/Storma/machine-learning-challenge"
   ]
  },
  {
   "cell_type": "code",
   "execution_count": null,
   "metadata": {
    "scrolled": true,
    "tags": []
   },
   "outputs": [],
   "source": [
    "!pip3 install -r requirements.txt"
   ]
  },
  {
   "cell_type": "code",
   "execution_count": null,
   "metadata": {},
   "outputs": [],
   "source": [
    "!nvidia-smi"
   ]
  },
  {
   "cell_type": "code",
   "execution_count": null,
   "metadata": {},
   "outputs": [],
   "source": [
    "import torch\n",
    "torch.cuda.is_available()"
   ]
  },
  {
   "cell_type": "code",
   "execution_count": null,
   "metadata": {},
   "outputs": [],
   "source": [
    "torch.cuda.get_device_properties(0).name"
   ]
  },
  {
   "cell_type": "code",
   "execution_count": null,
   "metadata": {},
   "outputs": [],
   "source": [
    "import os\n",
    "\n",
    "HOME = os.getcwd()\n",
    "print(HOME)"
   ]
  },
  {
   "cell_type": "code",
   "execution_count": null,
   "metadata": {
    "scrolled": true,
    "tags": []
   },
   "outputs": [],
   "source": [
    "%cd {HOME}\n",
    "\n",
    "# clone YOLOv5\n",
    "# !git clone https://github.com/ultralytics/yolov5\n",
    "%cd yolov5\n",
    "!git pull\n",
    "%pip install -r requirements.txt\n",
    "!pip uninstall comet_ml  -y\n",
    "\n",
    "import utils\n",
    "display = utils.notebook_init()"
   ]
  },
  {
   "cell_type": "code",
   "execution_count": null,
   "metadata": {},
   "outputs": [],
   "source": [
    "import torch\n",
    "import os\n",
    "from IPython.display import Image, clear_output  # to display images\n",
    "\n",
    "print(\n",
    "    f\"Setup complete. Using torch {torch.__version__} ({torch.cuda.get_device_properties(0).name if torch.cuda.is_available() else 'CPU'})\"\n",
    ")"
   ]
  },
  {
   "cell_type": "markdown",
   "metadata": {},
   "source": [
    "### Global Variables"
   ]
  },
  {
   "cell_type": "code",
   "execution_count": null,
   "metadata": {},
   "outputs": [],
   "source": [
    "yolo_version = \"5\"\n",
    "\n",
    "coco_dataset_dir = os.path.join(HOME, \"data/coco\")\n",
    "yolo_dataset_dir = os.path.join(HOME, \"data/yolo\")\n",
    "experiments_folder = os.path.join(HOME, \"yolov{}/runs/train/\".format(yolo_version))\n",
    "weights_folder = os.path.join(HOME, \"yolov{}/runs/detect/\".format(yolo_version))\n",
    "yolo_weights_folder = os.path.join(HOME, \"weights\".format(yolo_version))\n",
    "pretrained_weights_path = os.path.join(yolo_weights_folder, \"yolov5l.pt\")\n",
    "\n",
    "# set up environment\n",
    "os.environ[\"DATASET_DIRECTORY\"] = yolo_dataset_dir"
   ]
  },
  {
   "cell_type": "markdown",
   "metadata": {},
   "source": [
    "### Train Custom YOLOv5 model\n",
    "\n",
    "Here, we are able to pass a number of arguments:\n",
    "- **img:** define input image size\n",
    "- **batch:** determine batch size\n",
    "- **epochs:** define the number of training epochs. (Note: often, 3000+ are common here!)\n",
    "- **data:** Our dataset locaiton is saved in the `DATASET_DIRECTORY`\n",
    "- **weights:** specify a path to weights to start transfer learning from. Here we choose the generic COCO pretrained checkpoint.\n",
    "- **cache:** cache images for faster training\n",
    "- **hyp:** determine hyperparameters yaml file\n"
   ]
  },
  {
   "cell_type": "markdown",
   "metadata": {},
   "source": [
    "Download YOLO pretained weights"
   ]
  },
  {
   "cell_type": "code",
   "execution_count": null,
   "metadata": {},
   "outputs": [],
   "source": [
    "%cd {HOME}"
   ]
  },
  {
   "cell_type": "code",
   "execution_count": null,
   "metadata": {},
   "outputs": [],
   "source": [
    "!mkdir -p {yolo_weights_folder}\n",
    "%cd {yolo_weights_folder}\n",
    "\n",
    "# !wget https://github.com/ultralytics/yolov5/releases/download/v6.2/yolov5x6.pt\n",
    "# !wget https://github.com/ultralytics/yolov5/releases/download/v6.2/yolov5x.pt\n",
    "# !wget https://github.com/ultralytics/yolov5/releases/download/v6.2/yolov5l.pt\n",
    "# !wget https://github.com/WongKinYiu/yolov7/releases/download/v0.1/yolov7_training.pt\n",
    "\n",
    "%cd {HOME}"
   ]
  },
  {
   "cell_type": "code",
   "execution_count": null,
   "metadata": {},
   "outputs": [],
   "source": [
    "torch.cuda.empty_cache()"
   ]
  },
  {
   "cell_type": "code",
   "execution_count": null,
   "metadata": {},
   "outputs": [],
   "source": [
    "# torch.cuda.memory_summary(device=0, abbreviated=False)\n",
    "import gc\n",
    "gc.collect()"
   ]
  },
  {
   "cell_type": "code",
   "execution_count": null,
   "metadata": {
    "scrolled": true,
    "tags": []
   },
   "outputs": [],
   "source": [
    "!python yolov{yolo_version}/train.py \\\n",
    "    --batch 1 \\\n",
    "    --epochs 20 \\\n",
    "    --data {yolo_dataset_dir}/custom.yaml  \\\n",
    "    --weights {pretrained_weights_path} \\\n",
    "    --project {experiments_folder} \\\n",
    "    --device 0"
   ]
  },
  {
   "cell_type": "code",
   "execution_count": null,
   "metadata": {},
   "outputs": [],
   "source": [
    "!ls {experiments_folder}"
   ]
  },
  {
   "cell_type": "markdown",
   "metadata": {},
   "source": [
    "### Run inference with trained weights"
   ]
  },
  {
   "cell_type": "markdown",
   "metadata": {},
   "source": [
    "Run inference on images"
   ]
  },
  {
   "cell_type": "code",
   "execution_count": null,
   "metadata": {
    "scrolled": true,
    "tags": []
   },
   "outputs": [],
   "source": [
    "!python yolov{yolo_version}/detect.py \\\n",
    "    --weights yolov{yolo_version}/runs/train/exp2/weights/best.pt \\\n",
    "    --img 640 \\\n",
    "    --conf 0.5 \\\n",
    "    --source {yolo_dataset_dir}/test/images \\\n",
    "    --project {weights_folder}"
   ]
  },
  {
   "cell_type": "markdown",
   "metadata": {},
   "source": [
    "Run inference on videos"
   ]
  },
  {
   "cell_type": "code",
   "execution_count": null,
   "metadata": {
    "scrolled": true,
    "tags": []
   },
   "outputs": [],
   "source": [
    "!python yolov{yolo_version}/detect.py \\\n",
    "    --weights yolov{yolo_version}/runs/train/exp2/weights/best.pt \\\n",
    "    --img 640 \\\n",
    "    --conf 0.5 \\\n",
    "    --source {coco_dataset_dir}/images/test/test.mp4 \\\n",
    "    --project {weights_folder}"
   ]
  },
  {
   "cell_type": "code",
   "execution_count": null,
   "metadata": {},
   "outputs": [],
   "source": [
    "!ls {weights_folder}"
   ]
  },
  {
   "cell_type": "markdown",
   "metadata": {},
   "source": [
    "### Make Prediction Function For Inference"
   ]
  },
  {
   "cell_type": "code",
   "execution_count": null,
   "metadata": {},
   "outputs": [],
   "source": [
    "import torch\n",
    "import cv2\n",
    "import os\n",
    "import glob\n",
    "from IPython.display import Image, display\n",
    "\n",
    "def model_predict(image, model, size=416, output_folder=\"runs/detect/exp/\", show_img=False):\n",
    "\n",
    "    \"\"\"\n",
    "    image: can be: file, Path, PIL, OpenCV, numpy, list\n",
    "    model: weights file of trained torch model\n",
    "    size: size of the image\n",
    "    out_img_path: where to save the result image\n",
    "    \"\"\"\n",
    "\n",
    "    # Inference\n",
    "    results = model(image, size=size)\n",
    "    \n",
    "    # Show Results\n",
    "    if show_img:\n",
    "        results.show()\n",
    "        \n",
    "    # Save Results\n",
    "    if output_folder:\n",
    "        results.save(save_dir=output_folder, exist_ok=True)  \n",
    "    \n",
    "    # results.crop(), results.pandas(), etc.\n",
    "    # print(results.xyxy[0])  # im predictions (tensor)\n",
    "    # print(results.pandas().xyxy[0])  # im predictions (pandas)\n",
    "    # print(results.pandas().xyxy[0].value_counts('name'))  # class counts (pandas)\n"
   ]
  },
  {
   "cell_type": "code",
   "execution_count": null,
   "metadata": {},
   "outputs": [],
   "source": [
    "models_paths = glob.glob(os.path.join(HOME, experiments_folder, \"*\"))\n",
    "models_paths = sorted(models_paths, key=os.path.getmtime)\n",
    "model_path = os.path.join(models_paths[-1], \"weights/best.pt\")\n",
    "print(\"Using model weights file:\\n{}\\n\".format(model_path))"
   ]
  },
  {
   "cell_type": "code",
   "execution_count": null,
   "metadata": {},
   "outputs": [],
   "source": [
    "model = torch.hub.load(f\"{HOME}/yolov{yolo_version}\", \"custom\", path=model_path, source=\"local\")\n",
    "if torch.cuda.is_available():\n",
    "    model.cuda()\n",
    "\n",
    "print(\"Model is loaded!\")"
   ]
  },
  {
   "cell_type": "code",
   "execution_count": null,
   "metadata": {},
   "outputs": [],
   "source": [
    "from yolov5.utils.general import increment_path\n",
    "from pathlib import Path\n",
    "\n",
    "\n",
    "test_imgs_folder = os.path.join(HOME, yolo_dataset_dir, \"test/images\")\n",
    "print(test_imgs_folder)\n",
    "\n",
    "output_folder = os.path.join(HOME, 'yolov{}/runs/detect/exp/'.format(yolo_version))\n",
    "output_folder = increment_path(Path(output_folder), exist_ok=False)\n",
    "print(output_folder)\n",
    "\n",
    "if not os.path.isdir(output_folder):\n",
    "    os.mkdir(output_folder)"
   ]
  },
  {
   "cell_type": "code",
   "execution_count": null,
   "metadata": {
    "scrolled": true,
    "tags": []
   },
   "outputs": [],
   "source": [
    "from PIL import Image\n",
    "\n",
    "\n",
    "image_paths = [image_path for image_path in glob.glob(test_imgs_folder + \"/*\")][1000:1050]\n",
    "\n",
    "for image_path in image_paths:\n",
    "    print(image_path)\n",
    "    img_file_name = os.path.basename(image_path)\n",
    "    model_predict(\n",
    "        image_path, model=model, output_folder=output_folder, show_img = True\n",
    "    )\n"
   ]
  },
  {
   "cell_type": "code",
   "execution_count": null,
   "metadata": {},
   "outputs": [],
   "source": []
  },
  {
   "cell_type": "markdown",
   "metadata": {},
   "source": [
    "### YOLOv5 with StrongSORT Inference"
   ]
  },
  {
   "cell_type": "code",
   "execution_count": null,
   "metadata": {},
   "outputs": [],
   "source": [
    "import sys\n",
    "sys.path.append(\"yolov5\")\n",
    "\n",
    "from yolov5.utils.general import increment_path\n",
    "from pathlib import Path\n",
    "import glob\n",
    "import os\n",
    "\n",
    "yolo_version = \"5\"\n",
    "\n",
    "HOME = os.getcwd()\n",
    "coco_dataset_dir = os.path.join(HOME, \"data/coco/\")\n",
    "video_name = \"test\"\n",
    "input_video = os.path.join(coco_dataset_dir, \"images/test/{}.mp4\".format(video_name))\n",
    "print(\"[INFO] input_video:\", input_video)\n",
    "\n",
    "output_folder = os.path.join(HOME, \"yolov{}/runs/track/exp/\".format(yolo_version))\n",
    "output_folder = increment_path(Path(output_folder), exist_ok=False)\n",
    "print(\"[INFO] output_folder:\", output_folder)\n",
    "\n",
    "if not os.path.isdir(output_folder):\n",
    "    os.mkdir(output_folder)\n",
    "    \n",
    "experiments_folder = os.path.join(HOME, \"yolov{}/runs/train/\".format(yolo_version))\n",
    "models_paths = glob.glob(os.path.join(HOME, experiments_folder, \"*\"))\n",
    "models_paths = sorted(models_paths, key=os.path.getmtime)\n",
    "yolo_model_path = os.path.join(models_paths[-1], \"weights/best.pt\")\n",
    "print(\"[INFO] yolo_model_path:{}\".format(yolo_model_path))\n",
    "\n",
    "strong_sort_mode_path =  os.path.join(HOME, \"weights/osnet_x0_25_msmt17.pt\")\n",
    "print(\"[INFO] strong_sort_mode_path:{}\".format(strong_sort_mode_path))"
   ]
  },
  {
   "cell_type": "code",
   "execution_count": null,
   "metadata": {
    "scrolled": true,
    "tags": []
   },
   "outputs": [],
   "source": [
    "!python3 strongsort_yolov5_track.py \\\n",
    "    --source ./data/coco/images/test/test.mp4   \\\n",
    "    --yolo-weights ./yolov5/runs/train/exp2/weights/best.pt  \\\n",
    "    --strong-sort-weights ./weights/osnet_x0_25_msmt17.pt  \\\n",
    "    --project ./yolov5/runs/track/exp2  \\\n",
    "    --name test  \\\n",
    "    --device 0 \\\n",
    "    --save-txt \\\n",
    "    --count \\\n",
    "    --save-conf \\\n",
    "    --save-vid \\\n",
    "    --exist-ok\n",
    "#  --show-vid"
   ]
  },
  {
   "cell_type": "code",
   "execution_count": null,
   "metadata": {},
   "outputs": [],
   "source": []
  }
 ],
 "metadata": {
  "kernelspec": {
   "display_name": "tf",
   "language": "python",
   "name": "tf"
  },
  "language_info": {
   "codemirror_mode": {
    "name": "ipython",
    "version": 3
   },
   "file_extension": ".py",
   "mimetype": "text/x-python",
   "name": "python",
   "nbconvert_exporter": "python",
   "pygments_lexer": "ipython3",
   "version": "3.9.12"
  },
  "vscode": {
   "interpreter": {
    "hash": "3302f45d2aa19526f06f39d8f296fc0434d63a22902ee77b2eb24e9a089d4b2b"
   }
  }
 },
 "nbformat": 4,
 "nbformat_minor": 4
}
